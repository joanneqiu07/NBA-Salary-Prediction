{
 "cells": [
  {
   "cell_type": "markdown",
   "source": [
    "# NBA Players Salary Prediction Model\n",
    "**PIC16A Final Project**\n",
    "\n",
    "*Group member: Joanne Qiu, Yupei Hu, Shikang Yang*"
   ],
   "metadata": {}
  },
  {
   "cell_type": "markdown",
   "source": [
    "## Features Engineering"
   ],
   "metadata": {}
  },
  {
   "cell_type": "code",
   "execution_count": 308,
   "source": [
    "import pandas as pd\n",
    "import numpy as np\n",
    "from cleaner import Cleaner"
   ],
   "outputs": [],
   "metadata": {}
  },
  {
   "cell_type": "code",
   "execution_count": 309,
   "source": [
    "# import two datasets and clean the data with the Cleaner class\n",
    "contract_22 = Cleaner(\"21-22_contract.csv\")\n",
    "\n",
    "contract_22.keepColumns([\"Player\", \"2021-22\"])\n",
    "contract_22.changeName([\"2021-22\"],[\"Salary\"])\n",
    "contract_22.cleanPlayerName()"
   ],
   "outputs": [],
   "metadata": {}
  },
  {
   "cell_type": "code",
   "execution_count": 310,
   "source": [
    "player_21 = Cleaner(\"all_seasons.csv\")\n",
    "\n",
    "player_21.getSeason(\"2020-21\")\n",
    "player_21.keepColumns([\"player_name\",\"team_abbreviation\",\"age\", \"player_height\", \"player_weight\", \"pts\", \"reb\", \"ast\", \"oreb_pct\", \"dreb_pct\",\n",
    "          \"usg_pct\", \"ts_pct\"])\n",
    "player_21.changeName([\"player_name\", \"team_abbreviation\"], [\"Player\", \"team\"])"
   ],
   "outputs": [],
   "metadata": {}
  },
  {
   "cell_type": "code",
   "execution_count": 311,
   "source": [
    "# clean the salary column\n",
    "try:\n",
    "    contract_22.cleanSalary()\n",
    "except TypeError:\n",
    "    print(\"There were NA values\")\n",
    "    contract_22.dropNA()\n",
    "    contract_22.cleanSalary()\n",
    "finally:\n",
    "    print('Finish cleaning the salary column')"
   ],
   "outputs": [
    {
     "output_type": "stream",
     "name": "stdout",
     "text": [
      "There were NA values\n",
      "Finish cleaning the salary column\n"
     ]
    }
   ],
   "metadata": {}
  },
  {
   "cell_type": "code",
   "execution_count": 312,
   "source": [
    "# combine two datasets together\n",
    "try:\n",
    "    nba = contract_22.merge(player_21)\n",
    "except ValueError:\n",
    "    print(\"There were duplicated players\")\n",
    "    player_21.unique(\"Player\")\n",
    "    contract_22.unique(\"Player\")\n",
    "    nba = contract_22.merge(player_21)\n",
    "finally:\n",
    "    print(\"Finish merging\")"
   ],
   "outputs": [
    {
     "output_type": "stream",
     "name": "stdout",
     "text": [
      "There were duplicated players\n",
      "Finish merging\n"
     ]
    }
   ],
   "metadata": {
    "scrolled": false
   }
  },
  {
   "cell_type": "code",
   "execution_count": 313,
   "source": [
    "# done data cleaning\n",
    "nba.head(10)"
   ],
   "outputs": [
    {
     "output_type": "execute_result",
     "data": {
      "text/html": [
       "<div>\n",
       "<style scoped>\n",
       "    .dataframe tbody tr th:only-of-type {\n",
       "        vertical-align: middle;\n",
       "    }\n",
       "\n",
       "    .dataframe tbody tr th {\n",
       "        vertical-align: top;\n",
       "    }\n",
       "\n",
       "    .dataframe thead th {\n",
       "        text-align: right;\n",
       "    }\n",
       "</style>\n",
       "<table border=\"1\" class=\"dataframe\">\n",
       "  <thead>\n",
       "    <tr style=\"text-align: right;\">\n",
       "      <th></th>\n",
       "      <th>Player</th>\n",
       "      <th>Salary</th>\n",
       "      <th>team</th>\n",
       "      <th>age</th>\n",
       "      <th>player_height</th>\n",
       "      <th>player_weight</th>\n",
       "      <th>pts</th>\n",
       "      <th>reb</th>\n",
       "      <th>ast</th>\n",
       "      <th>oreb_pct</th>\n",
       "      <th>dreb_pct</th>\n",
       "      <th>usg_pct</th>\n",
       "      <th>ts_pct</th>\n",
       "    </tr>\n",
       "  </thead>\n",
       "  <tbody>\n",
       "    <tr>\n",
       "      <th>0</th>\n",
       "      <td>Stephen Curry</td>\n",
       "      <td>45780966.0</td>\n",
       "      <td>GSW</td>\n",
       "      <td>33.0</td>\n",
       "      <td>190.50</td>\n",
       "      <td>83.914520</td>\n",
       "      <td>32.0</td>\n",
       "      <td>5.5</td>\n",
       "      <td>5.8</td>\n",
       "      <td>0.013</td>\n",
       "      <td>0.135</td>\n",
       "      <td>0.331</td>\n",
       "      <td>0.655</td>\n",
       "    </tr>\n",
       "    <tr>\n",
       "      <th>1</th>\n",
       "      <td>John Wall</td>\n",
       "      <td>44310840.0</td>\n",
       "      <td>HOU</td>\n",
       "      <td>30.0</td>\n",
       "      <td>190.50</td>\n",
       "      <td>95.254320</td>\n",
       "      <td>20.6</td>\n",
       "      <td>3.2</td>\n",
       "      <td>6.9</td>\n",
       "      <td>0.012</td>\n",
       "      <td>0.084</td>\n",
       "      <td>0.316</td>\n",
       "      <td>0.503</td>\n",
       "    </tr>\n",
       "    <tr>\n",
       "      <th>2</th>\n",
       "      <td>Russell Westbrook</td>\n",
       "      <td>44211146.0</td>\n",
       "      <td>WAS</td>\n",
       "      <td>32.0</td>\n",
       "      <td>190.50</td>\n",
       "      <td>90.718400</td>\n",
       "      <td>22.2</td>\n",
       "      <td>11.5</td>\n",
       "      <td>11.7</td>\n",
       "      <td>0.043</td>\n",
       "      <td>0.249</td>\n",
       "      <td>0.295</td>\n",
       "      <td>0.509</td>\n",
       "    </tr>\n",
       "    <tr>\n",
       "      <th>3</th>\n",
       "      <td>James Harden</td>\n",
       "      <td>43848000.0</td>\n",
       "      <td>BKN</td>\n",
       "      <td>31.0</td>\n",
       "      <td>195.58</td>\n",
       "      <td>99.790240</td>\n",
       "      <td>24.6</td>\n",
       "      <td>7.9</td>\n",
       "      <td>10.8</td>\n",
       "      <td>0.023</td>\n",
       "      <td>0.191</td>\n",
       "      <td>0.283</td>\n",
       "      <td>0.618</td>\n",
       "    </tr>\n",
       "    <tr>\n",
       "      <th>4</th>\n",
       "      <td>LeBron James</td>\n",
       "      <td>41180544.0</td>\n",
       "      <td>LAL</td>\n",
       "      <td>36.0</td>\n",
       "      <td>205.74</td>\n",
       "      <td>113.398000</td>\n",
       "      <td>25.0</td>\n",
       "      <td>7.7</td>\n",
       "      <td>7.8</td>\n",
       "      <td>0.020</td>\n",
       "      <td>0.202</td>\n",
       "      <td>0.310</td>\n",
       "      <td>0.602</td>\n",
       "    </tr>\n",
       "    <tr>\n",
       "      <th>5</th>\n",
       "      <td>Kevin Durant</td>\n",
       "      <td>40918900.0</td>\n",
       "      <td>BKN</td>\n",
       "      <td>32.0</td>\n",
       "      <td>208.28</td>\n",
       "      <td>108.862080</td>\n",
       "      <td>26.9</td>\n",
       "      <td>7.1</td>\n",
       "      <td>5.6</td>\n",
       "      <td>0.012</td>\n",
       "      <td>0.180</td>\n",
       "      <td>0.303</td>\n",
       "      <td>0.666</td>\n",
       "    </tr>\n",
       "    <tr>\n",
       "      <th>6</th>\n",
       "      <td>Giannis Antetokounmpo</td>\n",
       "      <td>39344970.0</td>\n",
       "      <td>MIL</td>\n",
       "      <td>26.0</td>\n",
       "      <td>210.82</td>\n",
       "      <td>109.769264</td>\n",
       "      <td>28.1</td>\n",
       "      <td>11.0</td>\n",
       "      <td>5.9</td>\n",
       "      <td>0.048</td>\n",
       "      <td>0.264</td>\n",
       "      <td>0.320</td>\n",
       "      <td>0.633</td>\n",
       "    </tr>\n",
       "    <tr>\n",
       "      <th>7</th>\n",
       "      <td>Paul George</td>\n",
       "      <td>39344970.0</td>\n",
       "      <td>LAC</td>\n",
       "      <td>31.0</td>\n",
       "      <td>203.20</td>\n",
       "      <td>99.790240</td>\n",
       "      <td>23.3</td>\n",
       "      <td>6.6</td>\n",
       "      <td>5.2</td>\n",
       "      <td>0.026</td>\n",
       "      <td>0.171</td>\n",
       "      <td>0.296</td>\n",
       "      <td>0.598</td>\n",
       "    </tr>\n",
       "    <tr>\n",
       "      <th>8</th>\n",
       "      <td>Damian Lillard</td>\n",
       "      <td>39344900.0</td>\n",
       "      <td>POR</td>\n",
       "      <td>30.0</td>\n",
       "      <td>187.96</td>\n",
       "      <td>88.450440</td>\n",
       "      <td>28.8</td>\n",
       "      <td>4.2</td>\n",
       "      <td>7.5</td>\n",
       "      <td>0.012</td>\n",
       "      <td>0.104</td>\n",
       "      <td>0.306</td>\n",
       "      <td>0.623</td>\n",
       "    </tr>\n",
       "    <tr>\n",
       "      <th>9</th>\n",
       "      <td>Kawhi Leonard</td>\n",
       "      <td>39344900.0</td>\n",
       "      <td>LAC</td>\n",
       "      <td>30.0</td>\n",
       "      <td>200.66</td>\n",
       "      <td>102.058200</td>\n",
       "      <td>24.8</td>\n",
       "      <td>6.5</td>\n",
       "      <td>5.2</td>\n",
       "      <td>0.034</td>\n",
       "      <td>0.161</td>\n",
       "      <td>0.282</td>\n",
       "      <td>0.622</td>\n",
       "    </tr>\n",
       "  </tbody>\n",
       "</table>\n",
       "</div>"
      ],
      "text/plain": [
       "                  Player      Salary team   age  player_height  player_weight  \\\n",
       "0          Stephen Curry  45780966.0  GSW  33.0         190.50      83.914520   \n",
       "1              John Wall  44310840.0  HOU  30.0         190.50      95.254320   \n",
       "2      Russell Westbrook  44211146.0  WAS  32.0         190.50      90.718400   \n",
       "3           James Harden  43848000.0  BKN  31.0         195.58      99.790240   \n",
       "4           LeBron James  41180544.0  LAL  36.0         205.74     113.398000   \n",
       "5           Kevin Durant  40918900.0  BKN  32.0         208.28     108.862080   \n",
       "6  Giannis Antetokounmpo  39344970.0  MIL  26.0         210.82     109.769264   \n",
       "7            Paul George  39344970.0  LAC  31.0         203.20      99.790240   \n",
       "8         Damian Lillard  39344900.0  POR  30.0         187.96      88.450440   \n",
       "9          Kawhi Leonard  39344900.0  LAC  30.0         200.66     102.058200   \n",
       "\n",
       "    pts   reb   ast  oreb_pct  dreb_pct  usg_pct  ts_pct  \n",
       "0  32.0   5.5   5.8     0.013     0.135    0.331   0.655  \n",
       "1  20.6   3.2   6.9     0.012     0.084    0.316   0.503  \n",
       "2  22.2  11.5  11.7     0.043     0.249    0.295   0.509  \n",
       "3  24.6   7.9  10.8     0.023     0.191    0.283   0.618  \n",
       "4  25.0   7.7   7.8     0.020     0.202    0.310   0.602  \n",
       "5  26.9   7.1   5.6     0.012     0.180    0.303   0.666  \n",
       "6  28.1  11.0   5.9     0.048     0.264    0.320   0.633  \n",
       "7  23.3   6.6   5.2     0.026     0.171    0.296   0.598  \n",
       "8  28.8   4.2   7.5     0.012     0.104    0.306   0.623  \n",
       "9  24.8   6.5   5.2     0.034     0.161    0.282   0.622  "
      ]
     },
     "metadata": {},
     "execution_count": 313
    }
   ],
   "metadata": {}
  },
  {
   "cell_type": "markdown",
   "source": [
    "## Distribution Graph"
   ],
   "metadata": {}
  },
  {
   "cell_type": "code",
   "execution_count": 314,
   "source": [
    "# use Plotly to create an interactive plot\n",
    "import plotly.express as px\n",
    "fig = px.scatter(nba, x = \"Salary\", y= \"pts\", color = \"team\", hover_name = \"Player\")\n",
    "fig.show()"
   ],
   "outputs": [
    {
     "output_type": "display_data",
     "data": {
      "application/vnd.plotly.v1+json": {
       "data": [
        {
         "hovertemplate": "<b>%{hovertext}</b><br><br>team=GSW<br>Salary=%{x}<br>pts=%{y}<extra></extra>",
         "hovertext": [
          "Stephen Curry",
          "Andrew Wiggins",
          "Draymond Green",
          "Kelly Oubre Jr.",
          "James Wiseman",
          "Kevon Looney",
          "Kent Bazemore",
          "Jordan Poole",
          "Gary Payton II",
          "Damion Lee",
          "Eric Paschall",
          "Juan Toscano-Anderson",
          "Marquese Chriss"
         ],
         "legendgroup": "GSW",
         "marker": {
          "color": "#636efa",
          "symbol": "circle"
         },
         "mode": "markers",
         "name": "GSW",
         "orientation": "v",
         "showlegend": true,
         "x": [
          45780966,
          31579390,
          24026712,
          12000000,
          9166800,
          5178572,
          2401537,
          2161440,
          1939350,
          1910860,
          1782621,
          1701593,
          958529
         ],
         "xaxis": "x",
         "y": [
          32,
          18.6,
          7,
          15.4,
          11.5,
          4.1,
          7.2,
          12,
          2.5,
          6.5,
          9.5,
          5.7,
          6.5
         ],
         "yaxis": "y",
         "type": "scatter"
        },
        {
         "hovertemplate": "<b>%{hovertext}</b><br><br>team=HOU<br>Salary=%{x}<br>pts=%{y}<extra></extra>",
         "hovertext": [
          "John Wall",
          "Eric Gordon",
          "Christian Wood",
          "Kelly Olynyk",
          "D.J. Augustin",
          "David Nwaba",
          "Sterling Brown",
          "Avery Bradley",
          "Kevin Porter Jr.",
          "Kenyon Martin Jr.",
          "Jae'Sean Tate",
          "Armoni Brooks",
          "Danuel House Jr."
         ],
         "legendgroup": "HOU",
         "marker": {
          "color": "#EF553B",
          "symbol": "circle"
         },
         "mode": "markers",
         "name": "HOU",
         "orientation": "v",
         "showlegend": true,
         "x": [
          44310840,
          18218818,
          13666667,
          12195122,
          7000000,
          4650000,
          3000000,
          2641691,
          2130240,
          1517981,
          1517981,
          1489065,
          2045094
         ],
         "xaxis": "x",
         "y": [
          20.6,
          17.8,
          21,
          13.5,
          7.7,
          9.2,
          8.2,
          6.4,
          16.6,
          9.3,
          11.3,
          11.2,
          8.8
         ],
         "yaxis": "y",
         "type": "scatter"
        },
        {
         "hovertemplate": "<b>%{hovertext}</b><br><br>team=WAS<br>Salary=%{x}<br>pts=%{y}<extra></extra>",
         "hovertext": [
          "Russell Westbrook",
          "Bradley Beal",
          "Thomas Bryant",
          "Robin Lopez",
          "Rui Hachimura",
          "Deni Avdija",
          "Ish Smith",
          "Alex Len",
          "Raul Neto",
          "Daniel Gafford",
          "Isaac Bonga",
          "Anthony Gill",
          "Garrison Mathews"
         ],
         "legendgroup": "WAS",
         "marker": {
          "color": "#00cc96",
          "symbol": "circle"
         },
         "mode": "markers",
         "name": "WAS",
         "orientation": "v",
         "showlegend": true,
         "x": [
          44211146,
          34502130,
          8730159,
          5000000,
          4916160,
          4692840,
          4500000,
          3731707,
          2089448,
          1782621,
          1729217,
          1517981,
          1093598
         ],
         "xaxis": "x",
         "y": [
          22.2,
          31.3,
          14.3,
          9,
          13.8,
          6.3,
          6.7,
          6.6,
          8.7,
          7,
          2,
          3.1,
          5.5
         ],
         "yaxis": "y",
         "type": "scatter"
        },
        {
         "hovertemplate": "<b>%{hovertext}</b><br><br>team=BKN<br>Salary=%{x}<br>pts=%{y}<extra></extra>",
         "hovertext": [
          "James Harden",
          "Kevin Durant",
          "Kyrie Irving",
          "Blake Griffin",
          "Joe Harris",
          "Spencer Dinwiddie",
          "DeAndre Jordan",
          "Bruce Brown",
          "Jeff Green",
          "Landry Shamet",
          "LaMarcus Aldridge",
          "Alize Johnson"
         ],
         "legendgroup": "BKN",
         "marker": {
          "color": "#ab63fa",
          "symbol": "circle"
         },
         "mode": "markers",
         "name": "BKN",
         "orientation": "v",
         "showlegend": true,
         "x": [
          43848000,
          40918900,
          34916200,
          32405817,
          17357143,
          17142857,
          10517224,
          4736102,
          4500000,
          3768342,
          2641691,
          705598
         ],
         "xaxis": "x",
         "y": [
          24.6,
          26.9,
          26.9,
          11,
          14.1,
          6.7,
          7.5,
          8.8,
          11,
          9.3,
          13.5,
          5.2
         ],
         "yaxis": "y",
         "type": "scatter"
        },
        {
         "hovertemplate": "<b>%{hovertext}</b><br><br>team=LAL<br>Salary=%{x}<br>pts=%{y}<extra></extra>",
         "hovertext": [
          "LeBron James",
          "Anthony Davis",
          "Kentavious Caldwell-Pope",
          "Kyle Kuzma",
          "Montrezl Harrell",
          "Talen Horton-Tucker",
          "Alex Caruso",
          "Markieff Morris",
          "Andre Drummond",
          "Ben McLemore",
          "Wesley Matthews",
          "Alfonzo McKinnie"
         ],
         "legendgroup": "LAL",
         "marker": {
          "color": "#FFA15A",
          "symbol": "circle"
         },
         "mode": "markers",
         "name": "LAL",
         "orientation": "v",
         "showlegend": true,
         "x": [
          41180544,
          35361360,
          13038862,
          13000000,
          9720900,
          9500000,
          8604651,
          2641691,
          2401537,
          2389641,
          1958501,
          1090007
         ],
         "xaxis": "x",
         "y": [
          25,
          21.8,
          9.7,
          12.9,
          13.5,
          9,
          6.4,
          6.7,
          14.9,
          7.7,
          4.8,
          3.1
         ],
         "yaxis": "y",
         "type": "scatter"
        },
        {
         "hovertemplate": "<b>%{hovertext}</b><br><br>team=MIL<br>Salary=%{x}<br>pts=%{y}<extra></extra>",
         "hovertext": [
          "Giannis Antetokounmpo",
          "Khris Middleton",
          "Jrue Holiday",
          "Brook Lopez",
          "P.J. Tucker",
          "Pat Connaughton",
          "Donte DiVincenzo",
          "Bobby Portis",
          "Thanasis Antetokounmpo",
          "Jordan Nwora",
          "Sam Merrill"
         ],
         "legendgroup": "MIL",
         "marker": {
          "color": "#19d3f3",
          "symbol": "circle"
         },
         "mode": "markers",
         "name": "MIL",
         "orientation": "v",
         "showlegend": true,
         "x": [
          39344970,
          35500000,
          30133333,
          13302325,
          7000000,
          5333333,
          4675830,
          4347600,
          1729217,
          1517981,
          663024
         ],
         "xaxis": "x",
         "y": [
          28.1,
          20.4,
          17.7,
          12.3,
          3.7,
          6.8,
          10.4,
          11.4,
          2.9,
          5.7,
          3
         ],
         "yaxis": "y",
         "type": "scatter"
        },
        {
         "hovertemplate": "<b>%{hovertext}</b><br><br>team=LAC<br>Salary=%{x}<br>pts=%{y}<extra></extra>",
         "hovertext": [
          "Paul George",
          "Kawhi Leonard",
          "Patrick Beverley",
          "Luke Kennard",
          "Reggie Jackson",
          "Serge Ibaka",
          "Nicolas Batum",
          "Ivica Zubac",
          "Rajon Rondo",
          "Terance Mann",
          "DeMarcus Cousins"
         ],
         "legendgroup": "LAC",
         "marker": {
          "color": "#FF6692",
          "symbol": "circle"
         },
         "mode": "markers",
         "name": "LAC",
         "orientation": "v",
         "showlegend": true,
         "x": [
          39344970,
          39344900,
          14320988,
          12727273,
          10384500,
          9742000,
          12213507,
          7518518,
          2641691,
          1782621,
          607285
         ],
         "xaxis": "x",
         "y": [
          23.3,
          24.8,
          7.5,
          8.3,
          10.7,
          11.1,
          8.1,
          9,
          5.4,
          7,
          8.9
         ],
         "yaxis": "y",
         "type": "scatter"
        },
        {
         "hovertemplate": "<b>%{hovertext}</b><br><br>team=POR<br>Salary=%{x}<br>pts=%{y}<extra></extra>",
         "hovertext": [
          "Damian Lillard",
          "CJ McCollum",
          "Norman Powell",
          "Robert Covington",
          "Derrick Jones Jr.",
          "Anfernee Simons",
          "Carmelo Anthony",
          "Nassir Little",
          "CJ Elleby"
         ],
         "legendgroup": "POR",
         "marker": {
          "color": "#B6E880",
          "symbol": "circle"
         },
         "mode": "markers",
         "name": "POR",
         "orientation": "v",
         "showlegend": true,
         "x": [
          39344900,
          30864198,
          15517242,
          12975471,
          9720900,
          3938818,
          2641691,
          2316240,
          1517981
         ],
         "xaxis": "x",
         "y": [
          28.8,
          23.1,
          18.6,
          8.5,
          6.8,
          7.8,
          13.4,
          4.6,
          2.3
         ],
         "yaxis": "y",
         "type": "scatter"
        },
        {
         "hovertemplate": "<b>%{hovertext}</b><br><br>team=MIA<br>Salary=%{x}<br>pts=%{y}<extra></extra>",
         "hovertext": [
          "Jimmy Butler",
          "Bam Adebayo",
          "Duncan Robinson",
          "Kendrick Nunn",
          "Tyler Herro",
          "Dewayne Dedmon",
          "Precious Achiuwa",
          "Udonis Haslem",
          "Trevor Ariza",
          "Andre Iguodala",
          "Victor Oladipo",
          "Nemanja Bjelica",
          "KZ Okpala",
          "Max Strus",
          "Gabe Vincent"
         ],
         "legendgroup": "MIA",
         "marker": {
          "color": "#FF97FF",
          "symbol": "circle"
         },
         "mode": "markers",
         "name": "MIA",
         "orientation": "v",
         "showlegend": true,
         "x": [
          36016200,
          28103550,
          15560000,
          5000000,
          4004280,
          5256308,
          2711280,
          2641691,
          2641691,
          2641691,
          2389641,
          2089448,
          1782621,
          1669178,
          1669178
         ],
         "xaxis": "x",
         "y": [
          21.5,
          18.7,
          13.1,
          14.6,
          15.1,
          7.1,
          5,
          4,
          9.4,
          4.4,
          19.8,
          6.5,
          2.5,
          6.1,
          4.8
         ],
         "yaxis": "y",
         "type": "scatter"
        },
        {
         "hovertemplate": "<b>%{hovertext}</b><br><br>team=PHI<br>Salary=%{x}<br>pts=%{y}<extra></extra>",
         "hovertext": [
          "Tobias Harris",
          "Ben Simmons",
          "Joel Embiid",
          "Danny Green",
          "Seth Curry",
          "Furkan Korkmaz",
          "George Hill",
          "Matisse Thybulle",
          "Dwight Howard",
          "Tyrese Maxey",
          "Shake Milton",
          "Isaiah Joe",
          "Paul Reed",
          "Gary Clark"
         ],
         "legendgroup": "PHI",
         "marker": {
          "color": "#FECB52",
          "symbol": "circle"
         },
         "mode": "markers",
         "name": "PHI",
         "orientation": "v",
         "showlegend": true,
         "x": [
          36000000,
          31590000,
          31579390,
          10000000,
          8186047,
          4629630,
          4000000,
          2840160,
          2641691,
          2602920,
          1846738,
          1517981,
          1517981,
          377645
         ],
         "xaxis": "x",
         "y": [
          19.5,
          14.3,
          28.5,
          9.5,
          12.5,
          9.1,
          8.7,
          3.9,
          7,
          8,
          13,
          3.7,
          3.4,
          3.1
         ],
         "yaxis": "y",
         "type": "scatter"
        },
        {
         "hovertemplate": "<b>%{hovertext}</b><br><br>team=UTA<br>Salary=%{x}<br>pts=%{y}<extra></extra>",
         "hovertext": [
          "Rudy Gobert",
          "Donovan Mitchell",
          "Mike Conley",
          "Joe Ingles",
          "Jordan Clarkson",
          "Derrick Favors",
          "Royce O'Neale",
          "Georges Niang",
          "Udoka Azubuike",
          "Matt Thomas",
          "Elijah Hughes",
          "Miye Oni"
         ],
         "legendgroup": "UTA",
         "marker": {
          "color": "#636efa",
          "symbol": "circle"
         },
         "mode": "markers",
         "name": "UTA",
         "orientation": "v",
         "showlegend": true,
         "x": [
          35344828,
          28103550,
          21000000,
          14000000,
          12420000,
          9720900,
          8678571,
          3300000,
          2075880,
          1669178,
          1517981,
          850331
         ],
         "xaxis": "x",
         "y": [
          14.3,
          26.4,
          16.2,
          12.1,
          18.4,
          5.4,
          7,
          6.9,
          1.1,
          3.1,
          1.7,
          1.9
         ],
         "yaxis": "y",
         "type": "scatter"
        },
        {
         "hovertemplate": "<b>%{hovertext}</b><br><br>team=PHX<br>Salary=%{x}<br>pts=%{y}<extra></extra>",
         "hovertext": [
          "Devin Booker",
          "Chris Paul",
          "Deandre Ayton",
          "Jae Crowder",
          "Cameron Payne",
          "Mikal Bridges",
          "Torrey Craig",
          "Jalen Smith",
          "Cameron Johnson",
          "Jevon Carter",
          "E'Twaun Moore",
          "Frank Kaminsky",
          "Abdel Nader"
         ],
         "legendgroup": "PHX",
         "marker": {
          "color": "#EF553B",
          "symbol": "circle"
         },
         "mode": "markers",
         "name": "PHX",
         "orientation": "v",
         "showlegend": true,
         "x": [
          31610000,
          30800000,
          12632950,
          9720900,
          6500000,
          5557725,
          4878049,
          4458000,
          4437000,
          3833333,
          2641691,
          2089448,
          2000000
         ],
         "xaxis": "x",
         "y": [
          25.6,
          16.4,
          14.4,
          10.1,
          8.4,
          13.5,
          5.5,
          2,
          9.6,
          4.1,
          4.9,
          6.6,
          6.7
         ],
         "yaxis": "y",
         "type": "scatter"
        },
        {
         "hovertemplate": "<b>%{hovertext}</b><br><br>team=MIN<br>Salary=%{x}<br>pts=%{y}<extra></extra>",
         "hovertext": [
          "Karl-Anthony Towns",
          "D'Angelo Russell",
          "Ricky Rubio",
          "Malik Beasley",
          "Anthony Edwards",
          "Jarrett Culver",
          "Jarred Vanderbilt",
          "Josh Okogie",
          "Jake Layman",
          "Ed Davis",
          "Jaden McDaniels",
          "Naz Reid",
          "Jaylen Nowell",
          "Jordan McLaughlin"
         ],
         "legendgroup": "MIN",
         "marker": {
          "color": "#00cc96",
          "symbol": "circle"
         },
         "mode": "markers",
         "name": "MIN",
         "orientation": "v",
         "showlegend": true,
         "x": [
          31610000,
          30013500,
          17809524,
          14391964,
          10245480,
          6395160,
          4259259,
          4087904,
          3940184,
          2641691,
          2063280,
          1782621,
          1782621,
          1669178
         ],
         "xaxis": "x",
         "y": [
          24.8,
          19,
          8.6,
          19.6,
          19.3,
          5.3,
          5.4,
          5.4,
          5.1,
          2.1,
          6.8,
          11.2,
          9,
          5
         ],
         "yaxis": "y",
         "type": "scatter"
        },
        {
         "hovertemplate": "<b>%{hovertext}</b><br><br>team=DEN<br>Salary=%{x}<br>pts=%{y}<extra></extra>",
         "hovertext": [
          "Jamal Murray",
          "Aaron Gordon",
          "Will Barton",
          "Monte Morris",
          "JaMychal Green",
          "Michael Porter Jr.",
          "JaVale McGee",
          "Facundo Campazzo",
          "Paul Millsap",
          "Zeke Nnaji",
          "Austin Rivers",
          "Bol Bol",
          "PJ Dozier"
         ],
         "legendgroup": "DEN",
         "marker": {
          "color": "#ab63fa",
          "symbol": "circle"
         },
         "mode": "markers",
         "name": "DEN",
         "orientation": "v",
         "showlegend": true,
         "x": [
          31590000,
          16409091,
          15384615,
          8333333,
          8292683,
          5258735,
          5000000,
          3804150,
          2641691,
          2498760,
          2401537,
          2161152,
          1910860
         ],
         "xaxis": "x",
         "y": [
          21.2,
          12.4,
          12.7,
          10.2,
          8.1,
          19,
          7.3,
          6.1,
          9,
          3.2,
          7.9,
          2.2,
          7.7
         ],
         "yaxis": "y",
         "type": "scatter"
        },
        {
         "hovertemplate": "<b>%{hovertext}</b><br><br>team=TOR<br>Salary=%{x}<br>pts=%{y}<extra></extra>",
         "hovertext": [
          "Pascal Siakam",
          "Kyle Lowry",
          "Fred VanVleet",
          "OG Anunoby",
          "Gary Trent Jr.",
          "Chris Boucher",
          "Khem Birch",
          "Rodney Hood",
          "Malachi Flynn",
          "DeAndre' Bembry",
          "Yuta Watanabe",
          "Stanley Johnson"
         ],
         "legendgroup": "TOR",
         "marker": {
          "color": "#FFA15A",
          "symbol": "circle"
         },
         "mode": "markers",
         "name": "TOR",
         "orientation": "v",
         "showlegend": true,
         "x": [
          31320000,
          26984128,
          19675926,
          16071429,
          16000000,
          7009615,
          6350000,
          2239544,
          2048040,
          2541217,
          1762769,
          888616
         ],
         "xaxis": "x",
         "y": [
          21.4,
          17.2,
          19.6,
          15.9,
          15.3,
          13.6,
          7.2,
          4.5,
          7.5,
          5.7,
          4.4,
          4.4
         ],
         "yaxis": "y",
         "type": "scatter"
        },
        {
         "hovertemplate": "<b>%{hovertext}</b><br><br>team=CLE<br>Salary=%{x}<br>pts=%{y}<extra></extra>",
         "hovertext": [
          "Kevin Love",
          "Jarrett Allen",
          "Taurean Prince",
          "Larry Nance Jr.",
          "Cedi Osman",
          "Darius Garland",
          "Isaac Okoro",
          "Collin Sexton",
          "Dylan Windler",
          "Dean Wade",
          "Isaiah Hartenstein",
          "Lamar Stevens"
         ],
         "legendgroup": "CLE",
         "marker": {
          "color": "#19d3f3",
          "symbol": "circle"
         },
         "mode": "markers",
         "name": "CLE",
         "orientation": "v",
         "showlegend": true,
         "x": [
          31300000,
          20000000,
          15057692,
          10690909,
          8050000,
          7040880,
          6720720,
          6349671,
          2239200,
          1782621,
          3430810,
          1517981
         ],
         "xaxis": "x",
         "y": [
          12.2,
          12.8,
          9.5,
          9.3,
          10.4,
          17.4,
          9.6,
          24.3,
          5.2,
          6,
          5.1,
          4.1
         ],
         "yaxis": "y",
         "type": "scatter"
        },
        {
         "hovertemplate": "<b>%{hovertext}</b><br><br>team=CHA<br>Salary=%{x}<br>pts=%{y}<extra></extra>",
         "hovertext": [
          "Gordon Hayward",
          "Terry Rozier",
          "Devonte' Graham",
          "LaMelo Ball",
          "Miles Bridges",
          "P.J. Washington",
          "Cody Zeller",
          "Malik Monk",
          "Cody Martin",
          "Jalen McDaniels",
          "Vernon Carey Jr.",
          "Nick Richards",
          "Bismack Biyombo",
          "Brad Wanamaker",
          "Caleb Martin"
         ],
         "legendgroup": "CHA",
         "marker": {
          "color": "#FF6692",
          "symbol": "circle"
         },
         "mode": "markers",
         "name": "CHA",
         "orientation": "v",
         "showlegend": true,
         "x": [
          29900000,
          17905263,
          11000000,
          8231760,
          5421493,
          4215120,
          2389641,
          1789256,
          1782621,
          1782621,
          1517981,
          1517981,
          1366392,
          705598,
          527614
         ],
         "xaxis": "x",
         "y": [
          19.6,
          20.4,
          14.8,
          15.7,
          12.7,
          12.9,
          9.4,
          11.7,
          4,
          7.4,
          2.4,
          0.8,
          5,
          5.5,
          5
         ],
         "yaxis": "y",
         "type": "scatter"
        },
        {
         "hovertemplate": "<b>%{hovertext}</b><br><br>team=NOP<br>Salary=%{x}<br>pts=%{y}<extra></extra>",
         "hovertext": [
          "Brandon Ingram",
          "Lonzo Ball",
          "Eric Bledsoe",
          "Steven Adams",
          "Josh Hart",
          "Zion Williamson",
          "Jaxson Hayes",
          "Kira Lewis Jr.",
          "Nickeil Alexander-Walker",
          "James Johnson",
          "Didi Louzada",
          "Naji Marshall"
         ],
         "legendgroup": "NOP",
         "marker": {
          "color": "#B6E880",
          "symbol": "circle"
         },
         "mode": "markers",
         "name": "NOP",
         "orientation": "v",
         "showlegend": true,
         "x": [
          29467800,
          18604651,
          18125000,
          17073171,
          12000000,
          10733400,
          5348280,
          3822240,
          3261480,
          2641691,
          1786878,
          1517981
         ],
         "xaxis": "x",
         "y": [
          23.8,
          14.6,
          12.2,
          7.6,
          9.2,
          27,
          7.5,
          6.4,
          11,
          7.2,
          2.7,
          7.7
         ],
         "yaxis": "y",
         "type": "scatter"
        },
        {
         "hovertemplate": "<b>%{hovertext}</b><br><br>team=SAC<br>Salary=%{x}<br>pts=%{y}<extra></extra>",
         "hovertext": [
          "De'Aaron Fox",
          "Buddy Hield",
          "Harrison Barnes",
          "Marvin Bagley III",
          "Richaun Holmes",
          "Delon Wright",
          "Maurice Harkless",
          "Tyrese Haliburton",
          "Terence Davis",
          "Hassan Whiteside",
          "Damian Jones",
          "Chimezie Metu",
          "Robert Woodard II",
          "Jahmi'us Ramsey"
         ],
         "legendgroup": "SAC",
         "marker": {
          "color": "#FF97FF",
          "symbol": "circle"
         },
         "mode": "markers",
         "name": "SAC",
         "orientation": "v",
         "showlegend": true,
         "x": [
          28103550,
          22477273,
          20284091,
          11312114,
          10384500,
          8526316,
          4347600,
          4023600,
          4000000,
          2401537,
          1977011,
          1762796,
          1517981,
          1517981
         ],
         "xaxis": "x",
         "y": [
          25.2,
          16.6,
          16.1,
          14.1,
          14.2,
          10.2,
          5.2,
          13,
          8.7,
          8.1,
          4.7,
          6.3,
          1.5,
          3.1
         ],
         "yaxis": "y",
         "type": "scatter"
        },
        {
         "hovertemplate": "<b>%{hovertext}</b><br><br>team=BOS<br>Salary=%{x}<br>pts=%{y}<extra></extra>",
         "hovertext": [
          "Jayson Tatum",
          "Al Horford",
          "Jaylen Brown",
          "Evan Fournier",
          "Marcus Smart",
          "Tristan Thompson",
          "Romeo Langford",
          "Aaron Nesmith",
          "Grant Williams",
          "Payton Pritchard",
          "Semi Ojeleye",
          "Moses Brown",
          "Jabari Parker",
          "Luke Kornet"
         ],
         "legendgroup": "BOS",
         "marker": {
          "color": "#FECB52",
          "symbol": "circle"
         },
         "mode": "markers",
         "name": "BOS",
         "orientation": "v",
         "showlegend": true,
         "x": [
          28103550,
          27000000,
          24830357,
          18139535,
          14339285,
          9720900,
          3804360,
          3631200,
          2617800,
          2137440,
          1789256,
          1701593,
          1068288,
          606702
         ],
         "xaxis": "x",
         "y": [
          26.4,
          14.2,
          24.7,
          17.1,
          13.1,
          7.6,
          3.1,
          4.7,
          4.7,
          7.7,
          4.6,
          8.6,
          5.5,
          3.4
         ],
         "yaxis": "y",
         "type": "scatter"
        },
        {
         "hovertemplate": "<b>%{hovertext}</b><br><br>team=OKC<br>Salary=%{x}<br>pts=%{y}<extra></extra>",
         "hovertext": [
          "Kemba Walker",
          "Shai Gilgeous-Alexander",
          "Mike Muscala",
          "Aleksej Pokusevski",
          "Darius Bazley",
          "Ty Jerome",
          "Kenrich Williams",
          "Tony Bradley",
          "Luguentz Dort",
          "Isaiah Roby",
          "Svi Mykhailiuk",
          "Gabriel Deck"
         ],
         "legendgroup": "OKC",
         "marker": {
          "color": "#636efa",
          "symbol": "circle"
         },
         "mode": "markers",
         "name": "OKC",
         "orientation": "v",
         "showlegend": true,
         "x": [
          8729020,
          5495532,
          3500000,
          3113160,
          2513040,
          2412840,
          2000000,
          1789256,
          1782621,
          1782621,
          1729217,
          1690507
         ],
         "xaxis": "x",
         "y": [
          19.3,
          23.7,
          9.7,
          8.2,
          13.7,
          10.7,
          8,
          7.1,
          14,
          8.7,
          8.5,
          8.4
         ],
         "yaxis": "y",
         "type": "scatter"
        },
        {
         "hovertemplate": "<b>%{hovertext}</b><br><br>team=SAS<br>Salary=%{x}<br>pts=%{y}<extra></extra>",
         "hovertext": [
          "DeMar DeRozan",
          "Dejounte Murray",
          "Derrick White",
          "Jakob Poeltl",
          "Rudy Gay",
          "Patty Mills",
          "Lonnie Walker IV",
          "Devin Vassell",
          "Gorgui Dieng",
          "Trey Lyles",
          "Keldon Johnson",
          "Drew Eubanks",
          "Keita Bates-Diop",
          "Tre Jones"
         ],
         "legendgroup": "SAS",
         "marker": {
          "color": "#EF553B",
          "symbol": "circle"
         },
         "mode": "markers",
         "name": "SAS",
         "orientation": "v",
         "showlegend": true,
         "x": [
          26000000,
          15428571,
          15178571,
          8750000,
          5890000,
          5890000,
          4447896,
          4235160,
          4000000,
          2500000,
          2145720,
          1762796,
          1729217,
          1517981
         ],
         "xaxis": "x",
         "y": [
          21.6,
          15.7,
          15.4,
          8.6,
          11.4,
          10.8,
          11.2,
          5.5,
          6.8,
          5,
          12.8,
          5.8,
          2.6,
          2.5
         ],
         "yaxis": "y",
         "type": "scatter"
        },
        {
         "hovertemplate": "<b>%{hovertext}</b><br><br>team=ATL<br>Salary=%{x}<br>pts=%{y}<extra></extra>",
         "hovertext": [
          "John Collins",
          "Danilo Gallinari",
          "Clint Capela",
          "Trae Young",
          "De'Andre Hunter",
          "Onyeka Okongwu",
          "Lou Williams",
          "Cam Reddish",
          "Kevin Huerter",
          "Solomon Hill",
          "Tony Snell",
          "Bruno Fernando"
         ],
         "legendgroup": "ATL",
         "marker": {
          "color": "#00cc96",
          "symbol": "circle"
         },
         "mode": "markers",
         "name": "ATL",
         "orientation": "v",
         "showlegend": true,
         "x": [
          23000000,
          20475000,
          17103448,
          8326471,
          7775400,
          6104280,
          5000000,
          4670160,
          4253357,
          2389641,
          2389641,
          1782621
         ],
         "xaxis": "x",
         "y": [
          17.6,
          13.3,
          15.2,
          25.3,
          15,
          4.6,
          11.3,
          11.2,
          11.9,
          4.5,
          5.3,
          1.5
         ],
         "yaxis": "y",
         "type": "scatter"
        },
        {
         "hovertemplate": "<b>%{hovertext}</b><br><br>team=IND<br>Salary=%{x}<br>pts=%{y}<extra></extra>",
         "hovertext": [
          "Malcolm Brogdon",
          "Domantas Sabonis",
          "Myles Turner",
          "Caris LeVert",
          "Doug McDermott",
          "T.J. Warren",
          "Jeremy Lamb",
          "T.J. McConnell",
          "Justin Holiday",
          "Aaron Holiday",
          "Goga Bitadze",
          "Oshae Brissett"
         ],
         "legendgroup": "IND",
         "marker": {
          "color": "#ab63fa",
          "symbol": "circle"
         },
         "mode": "markers",
         "name": "IND",
         "orientation": "v",
         "showlegend": true,
         "x": [
          21700000,
          18562500,
          18000000,
          17500000,
          13750000,
          12690000,
          10500000,
          7500000,
          6006420,
          3980551,
          3098400,
          1701593
         ],
         "xaxis": "x",
         "y": [
          21.2,
          20.3,
          12.6,
          20.2,
          13.6,
          15.5,
          10.1,
          8.6,
          10.5,
          7.2,
          5.1,
          10.9
         ],
         "yaxis": "y",
         "type": "scatter"
        },
        {
         "hovertemplate": "<b>%{hovertext}</b><br><br>team=DAL<br>Salary=%{x}<br>pts=%{y}<extra></extra>",
         "hovertext": [
          "Tim Hardaway Jr.",
          "Josh Richardson",
          "Dwight Powell",
          "Maxi Kleber",
          "Dorian Finney-Smith",
          "Trey Burke",
          "Josh Green",
          "Jalen Brunson",
          "Tyrell Terry"
         ],
         "legendgroup": "DAL",
         "marker": {
          "color": "#FFA15A",
          "symbol": "circle"
         },
         "mode": "markers",
         "name": "DAL",
         "orientation": "v",
         "showlegend": true,
         "x": [
          21306816,
          11600000,
          11000000,
          8750000,
          4000000,
          3333333,
          2957520,
          1802057,
          1517981
         ],
         "xaxis": "x",
         "y": [
          16.6,
          12.1,
          5.9,
          7.1,
          9.8,
          6.6,
          2.6,
          12.6,
          1
         ],
         "yaxis": "y",
         "type": "scatter"
        },
        {
         "hovertemplate": "<b>%{hovertext}</b><br><br>team=ORL<br>Salary=%{x}<br>pts=%{y}<extra></extra>",
         "hovertext": [
          "Gary Harris",
          "Markelle Fultz",
          "Terrence Ross",
          "Mo Bamba",
          "Wendell Carter Jr.",
          "Cole Anthony",
          "Chuma Okeke",
          "Michael Carter-Williams",
          "Otto Porter Jr.",
          "R.J. Hampton",
          "Moritz Wagner"
         ],
         "legendgroup": "ORL",
         "marker": {
          "color": "#19d3f3",
          "symbol": "circle"
         },
         "mode": "markers",
         "name": "ORL",
         "orientation": "v",
         "showlegend": true,
         "x": [
          20482143,
          16500000,
          12500000,
          7568742,
          6920027,
          3449400,
          3277080,
          3000000,
          2389641,
          2303040,
          1729217
         ],
         "xaxis": "x",
         "y": [
          9.9,
          12.9,
          15.6,
          8,
          11.2,
          12.9,
          7.8,
          8.8,
          9.7,
          6.9,
          6.9
         ],
         "yaxis": "y",
         "type": "scatter"
        },
        {
         "hovertemplate": "<b>%{hovertext}</b><br><br>team=DET<br>Salary=%{x}<br>pts=%{y}<extra></extra>",
         "hovertext": [
          "Jerami Grant",
          "Mason Plumlee",
          "Killian Hayes",
          "Hamidou Diallo",
          "Josh Jackson",
          "Cory Joseph",
          "Isaiah Stewart",
          "Frank Jackson",
          "Saddiq Bey",
          "Wayne Ellington",
          "Rodney McGruder",
          "Dennis Smith Jr.",
          "Saben Lee"
         ],
         "legendgroup": "DET",
         "marker": {
          "color": "#FF6692",
          "symbol": "circle"
         },
         "mode": "markers",
         "name": "DET",
         "orientation": "v",
         "showlegend": true,
         "x": [
          20000000,
          8137500,
          5572680,
          5200000,
          5005350,
          7310000,
          3277080,
          3000000,
          2824320,
          2641691,
          1939350,
          1789256,
          1489065
         ],
         "xaxis": "x",
         "y": [
          22.3,
          10.4,
          6.8,
          11.6,
          13.4,
          8.2,
          7.9,
          9.8,
          12.2,
          9.6,
          5.7,
          6.7,
          5.6
         ],
         "yaxis": "y",
         "type": "scatter"
        },
        {
         "hovertemplate": "<b>%{hovertext}</b><br><br>team=NYK<br>Salary=%{x}<br>pts=%{y}<extra></extra>",
         "hovertext": [
          "Julius Randle",
          "Derrick Rose",
          "Reggie Bullock",
          "Alec Burks",
          "Nerlens Noel",
          "RJ Barrett",
          "Obi Toppin",
          "Taj Gibson",
          "Elfrid Payton",
          "Immanuel Quickley",
          "Mitchell Robinson",
          "Frank Ntilikina"
         ],
         "legendgroup": "NYK",
         "marker": {
          "color": "#B6E880",
          "symbol": "circle"
         },
         "mode": "markers",
         "name": "NYK",
         "orientation": "v",
         "showlegend": true,
         "x": [
          19800000,
          13445120,
          9536000,
          9536000,
          8800000,
          8623920,
          5105160,
          4910000,
          2239544,
          2210640,
          1802057,
          1789256
         ],
         "xaxis": "x",
         "y": [
          24.1,
          14.7,
          10.9,
          12.7,
          5.1,
          17.6,
          4.1,
          5.4,
          10.1,
          11.4,
          8.3,
          2.7
         ],
         "yaxis": "y",
         "type": "scatter"
        },
        {
         "hovertemplate": "<b>%{hovertext}</b><br><br>team=CHI<br>Salary=%{x}<br>pts=%{y}<extra></extra>",
         "hovertext": [
          "Zach LaVine",
          "Lauri Markkanen",
          "Thaddeus Young",
          "Daniel Theis",
          "Patrick Williams",
          "Coby White",
          "Troy Brown Jr.",
          "Garrett Temple",
          "Javonte Green",
          "Ryan Arcidiacono"
         ],
         "legendgroup": "CHI",
         "marker": {
          "color": "#FF97FF",
          "symbol": "circle"
         },
         "mode": "markers",
         "name": "CHI",
         "orientation": "v",
         "showlegend": true,
         "x": [
          19500000,
          15690909,
          14190000,
          8372093,
          7422000,
          5837760,
          5170564,
          4910000,
          1669178,
          586136
         ],
         "xaxis": "x",
         "y": [
          27.4,
          13.6,
          12.1,
          9.6,
          9.2,
          15.1,
          4.7,
          7.6,
          3.6,
          3.1
         ],
         "yaxis": "y",
         "type": "scatter"
        },
        {
         "hovertemplate": "<b>%{hovertext}</b><br><br>team=MEM<br>Salary=%{x}<br>pts=%{y}<extra></extra>",
         "hovertext": [
          "Dillon Brooks",
          "Kyle Anderson",
          "Ja Morant",
          "Jaren Jackson Jr.",
          "De'Anthony Melton",
          "Tyus Jones",
          "Grayson Allen",
          "Justise Winslow",
          "Brandon Clarke",
          "John Konchar",
          "Desmond Bane",
          "Killian Tillie"
         ],
         "legendgroup": "MEM",
         "marker": {
          "color": "#FECB52",
          "symbol": "circle"
         },
         "mode": "markers",
         "name": "MEM",
         "orientation": "v",
         "showlegend": true,
         "x": [
          12200000,
          9937150,
          9603360,
          9180560,
          8437500,
          7522200,
          4054695,
          3902439,
          2726880,
          2197674,
          2033160,
          2000000
         ],
         "xaxis": "x",
         "y": [
          17.2,
          12.4,
          19.1,
          14.4,
          9.1,
          6.3,
          10.6,
          6.8,
          10.3,
          4.3,
          9.2,
          3.2
         ],
         "yaxis": "y",
         "type": "scatter"
        }
       ],
       "layout": {
        "template": {
         "data": {
          "bar": [
           {
            "error_x": {
             "color": "#2a3f5f"
            },
            "error_y": {
             "color": "#2a3f5f"
            },
            "marker": {
             "line": {
              "color": "#E5ECF6",
              "width": 0.5
             },
             "pattern": {
              "fillmode": "overlay",
              "size": 10,
              "solidity": 0.2
             }
            },
            "type": "bar"
           }
          ],
          "barpolar": [
           {
            "marker": {
             "line": {
              "color": "#E5ECF6",
              "width": 0.5
             },
             "pattern": {
              "fillmode": "overlay",
              "size": 10,
              "solidity": 0.2
             }
            },
            "type": "barpolar"
           }
          ],
          "carpet": [
           {
            "aaxis": {
             "endlinecolor": "#2a3f5f",
             "gridcolor": "white",
             "linecolor": "white",
             "minorgridcolor": "white",
             "startlinecolor": "#2a3f5f"
            },
            "baxis": {
             "endlinecolor": "#2a3f5f",
             "gridcolor": "white",
             "linecolor": "white",
             "minorgridcolor": "white",
             "startlinecolor": "#2a3f5f"
            },
            "type": "carpet"
           }
          ],
          "choropleth": [
           {
            "colorbar": {
             "outlinewidth": 0,
             "ticks": ""
            },
            "type": "choropleth"
           }
          ],
          "contour": [
           {
            "colorbar": {
             "outlinewidth": 0,
             "ticks": ""
            },
            "colorscale": [
             [
              0,
              "#0d0887"
             ],
             [
              0.1111111111111111,
              "#46039f"
             ],
             [
              0.2222222222222222,
              "#7201a8"
             ],
             [
              0.3333333333333333,
              "#9c179e"
             ],
             [
              0.4444444444444444,
              "#bd3786"
             ],
             [
              0.5555555555555556,
              "#d8576b"
             ],
             [
              0.6666666666666666,
              "#ed7953"
             ],
             [
              0.7777777777777778,
              "#fb9f3a"
             ],
             [
              0.8888888888888888,
              "#fdca26"
             ],
             [
              1,
              "#f0f921"
             ]
            ],
            "type": "contour"
           }
          ],
          "contourcarpet": [
           {
            "colorbar": {
             "outlinewidth": 0,
             "ticks": ""
            },
            "type": "contourcarpet"
           }
          ],
          "heatmap": [
           {
            "colorbar": {
             "outlinewidth": 0,
             "ticks": ""
            },
            "colorscale": [
             [
              0,
              "#0d0887"
             ],
             [
              0.1111111111111111,
              "#46039f"
             ],
             [
              0.2222222222222222,
              "#7201a8"
             ],
             [
              0.3333333333333333,
              "#9c179e"
             ],
             [
              0.4444444444444444,
              "#bd3786"
             ],
             [
              0.5555555555555556,
              "#d8576b"
             ],
             [
              0.6666666666666666,
              "#ed7953"
             ],
             [
              0.7777777777777778,
              "#fb9f3a"
             ],
             [
              0.8888888888888888,
              "#fdca26"
             ],
             [
              1,
              "#f0f921"
             ]
            ],
            "type": "heatmap"
           }
          ],
          "heatmapgl": [
           {
            "colorbar": {
             "outlinewidth": 0,
             "ticks": ""
            },
            "colorscale": [
             [
              0,
              "#0d0887"
             ],
             [
              0.1111111111111111,
              "#46039f"
             ],
             [
              0.2222222222222222,
              "#7201a8"
             ],
             [
              0.3333333333333333,
              "#9c179e"
             ],
             [
              0.4444444444444444,
              "#bd3786"
             ],
             [
              0.5555555555555556,
              "#d8576b"
             ],
             [
              0.6666666666666666,
              "#ed7953"
             ],
             [
              0.7777777777777778,
              "#fb9f3a"
             ],
             [
              0.8888888888888888,
              "#fdca26"
             ],
             [
              1,
              "#f0f921"
             ]
            ],
            "type": "heatmapgl"
           }
          ],
          "histogram": [
           {
            "marker": {
             "pattern": {
              "fillmode": "overlay",
              "size": 10,
              "solidity": 0.2
             }
            },
            "type": "histogram"
           }
          ],
          "histogram2d": [
           {
            "colorbar": {
             "outlinewidth": 0,
             "ticks": ""
            },
            "colorscale": [
             [
              0,
              "#0d0887"
             ],
             [
              0.1111111111111111,
              "#46039f"
             ],
             [
              0.2222222222222222,
              "#7201a8"
             ],
             [
              0.3333333333333333,
              "#9c179e"
             ],
             [
              0.4444444444444444,
              "#bd3786"
             ],
             [
              0.5555555555555556,
              "#d8576b"
             ],
             [
              0.6666666666666666,
              "#ed7953"
             ],
             [
              0.7777777777777778,
              "#fb9f3a"
             ],
             [
              0.8888888888888888,
              "#fdca26"
             ],
             [
              1,
              "#f0f921"
             ]
            ],
            "type": "histogram2d"
           }
          ],
          "histogram2dcontour": [
           {
            "colorbar": {
             "outlinewidth": 0,
             "ticks": ""
            },
            "colorscale": [
             [
              0,
              "#0d0887"
             ],
             [
              0.1111111111111111,
              "#46039f"
             ],
             [
              0.2222222222222222,
              "#7201a8"
             ],
             [
              0.3333333333333333,
              "#9c179e"
             ],
             [
              0.4444444444444444,
              "#bd3786"
             ],
             [
              0.5555555555555556,
              "#d8576b"
             ],
             [
              0.6666666666666666,
              "#ed7953"
             ],
             [
              0.7777777777777778,
              "#fb9f3a"
             ],
             [
              0.8888888888888888,
              "#fdca26"
             ],
             [
              1,
              "#f0f921"
             ]
            ],
            "type": "histogram2dcontour"
           }
          ],
          "mesh3d": [
           {
            "colorbar": {
             "outlinewidth": 0,
             "ticks": ""
            },
            "type": "mesh3d"
           }
          ],
          "parcoords": [
           {
            "line": {
             "colorbar": {
              "outlinewidth": 0,
              "ticks": ""
             }
            },
            "type": "parcoords"
           }
          ],
          "pie": [
           {
            "automargin": true,
            "type": "pie"
           }
          ],
          "scatter": [
           {
            "marker": {
             "colorbar": {
              "outlinewidth": 0,
              "ticks": ""
             }
            },
            "type": "scatter"
           }
          ],
          "scatter3d": [
           {
            "line": {
             "colorbar": {
              "outlinewidth": 0,
              "ticks": ""
             }
            },
            "marker": {
             "colorbar": {
              "outlinewidth": 0,
              "ticks": ""
             }
            },
            "type": "scatter3d"
           }
          ],
          "scattercarpet": [
           {
            "marker": {
             "colorbar": {
              "outlinewidth": 0,
              "ticks": ""
             }
            },
            "type": "scattercarpet"
           }
          ],
          "scattergeo": [
           {
            "marker": {
             "colorbar": {
              "outlinewidth": 0,
              "ticks": ""
             }
            },
            "type": "scattergeo"
           }
          ],
          "scattergl": [
           {
            "marker": {
             "colorbar": {
              "outlinewidth": 0,
              "ticks": ""
             }
            },
            "type": "scattergl"
           }
          ],
          "scattermapbox": [
           {
            "marker": {
             "colorbar": {
              "outlinewidth": 0,
              "ticks": ""
             }
            },
            "type": "scattermapbox"
           }
          ],
          "scatterpolar": [
           {
            "marker": {
             "colorbar": {
              "outlinewidth": 0,
              "ticks": ""
             }
            },
            "type": "scatterpolar"
           }
          ],
          "scatterpolargl": [
           {
            "marker": {
             "colorbar": {
              "outlinewidth": 0,
              "ticks": ""
             }
            },
            "type": "scatterpolargl"
           }
          ],
          "scatterternary": [
           {
            "marker": {
             "colorbar": {
              "outlinewidth": 0,
              "ticks": ""
             }
            },
            "type": "scatterternary"
           }
          ],
          "surface": [
           {
            "colorbar": {
             "outlinewidth": 0,
             "ticks": ""
            },
            "colorscale": [
             [
              0,
              "#0d0887"
             ],
             [
              0.1111111111111111,
              "#46039f"
             ],
             [
              0.2222222222222222,
              "#7201a8"
             ],
             [
              0.3333333333333333,
              "#9c179e"
             ],
             [
              0.4444444444444444,
              "#bd3786"
             ],
             [
              0.5555555555555556,
              "#d8576b"
             ],
             [
              0.6666666666666666,
              "#ed7953"
             ],
             [
              0.7777777777777778,
              "#fb9f3a"
             ],
             [
              0.8888888888888888,
              "#fdca26"
             ],
             [
              1,
              "#f0f921"
             ]
            ],
            "type": "surface"
           }
          ],
          "table": [
           {
            "cells": {
             "fill": {
              "color": "#EBF0F8"
             },
             "line": {
              "color": "white"
             }
            },
            "header": {
             "fill": {
              "color": "#C8D4E3"
             },
             "line": {
              "color": "white"
             }
            },
            "type": "table"
           }
          ]
         },
         "layout": {
          "annotationdefaults": {
           "arrowcolor": "#2a3f5f",
           "arrowhead": 0,
           "arrowwidth": 1
          },
          "autotypenumbers": "strict",
          "coloraxis": {
           "colorbar": {
            "outlinewidth": 0,
            "ticks": ""
           }
          },
          "colorscale": {
           "diverging": [
            [
             0,
             "#8e0152"
            ],
            [
             0.1,
             "#c51b7d"
            ],
            [
             0.2,
             "#de77ae"
            ],
            [
             0.3,
             "#f1b6da"
            ],
            [
             0.4,
             "#fde0ef"
            ],
            [
             0.5,
             "#f7f7f7"
            ],
            [
             0.6,
             "#e6f5d0"
            ],
            [
             0.7,
             "#b8e186"
            ],
            [
             0.8,
             "#7fbc41"
            ],
            [
             0.9,
             "#4d9221"
            ],
            [
             1,
             "#276419"
            ]
           ],
           "sequential": [
            [
             0,
             "#0d0887"
            ],
            [
             0.1111111111111111,
             "#46039f"
            ],
            [
             0.2222222222222222,
             "#7201a8"
            ],
            [
             0.3333333333333333,
             "#9c179e"
            ],
            [
             0.4444444444444444,
             "#bd3786"
            ],
            [
             0.5555555555555556,
             "#d8576b"
            ],
            [
             0.6666666666666666,
             "#ed7953"
            ],
            [
             0.7777777777777778,
             "#fb9f3a"
            ],
            [
             0.8888888888888888,
             "#fdca26"
            ],
            [
             1,
             "#f0f921"
            ]
           ],
           "sequentialminus": [
            [
             0,
             "#0d0887"
            ],
            [
             0.1111111111111111,
             "#46039f"
            ],
            [
             0.2222222222222222,
             "#7201a8"
            ],
            [
             0.3333333333333333,
             "#9c179e"
            ],
            [
             0.4444444444444444,
             "#bd3786"
            ],
            [
             0.5555555555555556,
             "#d8576b"
            ],
            [
             0.6666666666666666,
             "#ed7953"
            ],
            [
             0.7777777777777778,
             "#fb9f3a"
            ],
            [
             0.8888888888888888,
             "#fdca26"
            ],
            [
             1,
             "#f0f921"
            ]
           ]
          },
          "colorway": [
           "#636efa",
           "#EF553B",
           "#00cc96",
           "#ab63fa",
           "#FFA15A",
           "#19d3f3",
           "#FF6692",
           "#B6E880",
           "#FF97FF",
           "#FECB52"
          ],
          "font": {
           "color": "#2a3f5f"
          },
          "geo": {
           "bgcolor": "white",
           "lakecolor": "white",
           "landcolor": "#E5ECF6",
           "showlakes": true,
           "showland": true,
           "subunitcolor": "white"
          },
          "hoverlabel": {
           "align": "left"
          },
          "hovermode": "closest",
          "mapbox": {
           "style": "light"
          },
          "paper_bgcolor": "white",
          "plot_bgcolor": "#E5ECF6",
          "polar": {
           "angularaxis": {
            "gridcolor": "white",
            "linecolor": "white",
            "ticks": ""
           },
           "bgcolor": "#E5ECF6",
           "radialaxis": {
            "gridcolor": "white",
            "linecolor": "white",
            "ticks": ""
           }
          },
          "scene": {
           "xaxis": {
            "backgroundcolor": "#E5ECF6",
            "gridcolor": "white",
            "gridwidth": 2,
            "linecolor": "white",
            "showbackground": true,
            "ticks": "",
            "zerolinecolor": "white"
           },
           "yaxis": {
            "backgroundcolor": "#E5ECF6",
            "gridcolor": "white",
            "gridwidth": 2,
            "linecolor": "white",
            "showbackground": true,
            "ticks": "",
            "zerolinecolor": "white"
           },
           "zaxis": {
            "backgroundcolor": "#E5ECF6",
            "gridcolor": "white",
            "gridwidth": 2,
            "linecolor": "white",
            "showbackground": true,
            "ticks": "",
            "zerolinecolor": "white"
           }
          },
          "shapedefaults": {
           "line": {
            "color": "#2a3f5f"
           }
          },
          "ternary": {
           "aaxis": {
            "gridcolor": "white",
            "linecolor": "white",
            "ticks": ""
           },
           "baxis": {
            "gridcolor": "white",
            "linecolor": "white",
            "ticks": ""
           },
           "bgcolor": "#E5ECF6",
           "caxis": {
            "gridcolor": "white",
            "linecolor": "white",
            "ticks": ""
           }
          },
          "title": {
           "x": 0.05
          },
          "xaxis": {
           "automargin": true,
           "gridcolor": "white",
           "linecolor": "white",
           "ticks": "",
           "title": {
            "standoff": 15
           },
           "zerolinecolor": "white",
           "zerolinewidth": 2
          },
          "yaxis": {
           "automargin": true,
           "gridcolor": "white",
           "linecolor": "white",
           "ticks": "",
           "title": {
            "standoff": 15
           },
           "zerolinecolor": "white",
           "zerolinewidth": 2
          }
         }
        },
        "xaxis": {
         "anchor": "y",
         "domain": [
          0,
          1
         ],
         "title": {
          "text": "Salary"
         }
        },
        "yaxis": {
         "anchor": "x",
         "domain": [
          0,
          1
         ],
         "title": {
          "text": "pts"
         }
        },
        "legend": {
         "title": {
          "text": "team"
         },
         "tracegroupgap": 0
        },
        "margin": {
         "t": 60
        }
       },
       "config": {
        "plotlyServerURL": "https://plot.ly"
       }
      }
     },
     "metadata": {}
    }
   ],
   "metadata": {}
  },
  {
   "cell_type": "code",
   "execution_count": 315,
   "source": [
    "# create histograms to see the distributions of different variables\n",
    "import matplotlib.pyplot as plot\n",
    "nba.hist(bins=30, figsize=(20,15))"
   ],
   "outputs": [
    {
     "output_type": "execute_result",
     "data": {
      "text/plain": [
       "array([[<AxesSubplot:title={'center':'Salary'}>,\n",
       "        <AxesSubplot:title={'center':'age'}>,\n",
       "        <AxesSubplot:title={'center':'player_height'}>],\n",
       "       [<AxesSubplot:title={'center':'player_weight'}>,\n",
       "        <AxesSubplot:title={'center':'pts'}>,\n",
       "        <AxesSubplot:title={'center':'reb'}>],\n",
       "       [<AxesSubplot:title={'center':'ast'}>,\n",
       "        <AxesSubplot:title={'center':'oreb_pct'}>,\n",
       "        <AxesSubplot:title={'center':'dreb_pct'}>],\n",
       "       [<AxesSubplot:title={'center':'usg_pct'}>,\n",
       "        <AxesSubplot:title={'center':'ts_pct'}>, <AxesSubplot:>]],\n",
       "      dtype=object)"
      ]
     },
     "metadata": {},
     "execution_count": 315
    },
    {
     "output_type": "display_data",
     "data": {
      "image/png": "[encoded data removed]",
      "text/plain": [
       "<Figure size 1440x1080 with 12 Axes>"
      ]
     },
     "metadata": {
      "needs_background": "light"
     }
    }
   ],
   "metadata": {}
  },
  {
   "cell_type": "markdown",
   "source": [
    "## Basic Statistcs"
   ],
   "metadata": {}
  },
  {
   "cell_type": "code",
   "execution_count": 316,
   "source": [
    "nba.describe()"
   ],
   "outputs": [
    {
     "output_type": "execute_result",
     "data": {
      "text/html": [
       "<div>\n",
       "<style scoped>\n",
       "    .dataframe tbody tr th:only-of-type {\n",
       "        vertical-align: middle;\n",
       "    }\n",
       "\n",
       "    .dataframe tbody tr th {\n",
       "        vertical-align: top;\n",
       "    }\n",
       "\n",
       "    .dataframe thead th {\n",
       "        text-align: right;\n",
       "    }\n",
       "</style>\n",
       "<table border=\"1\" class=\"dataframe\">\n",
       "  <thead>\n",
       "    <tr style=\"text-align: right;\">\n",
       "      <th></th>\n",
       "      <th>Salary</th>\n",
       "      <th>age</th>\n",
       "      <th>player_height</th>\n",
       "      <th>player_weight</th>\n",
       "      <th>pts</th>\n",
       "      <th>reb</th>\n",
       "      <th>ast</th>\n",
       "      <th>oreb_pct</th>\n",
       "      <th>dreb_pct</th>\n",
       "      <th>usg_pct</th>\n",
       "      <th>ts_pct</th>\n",
       "    </tr>\n",
       "  </thead>\n",
       "  <tbody>\n",
       "    <tr>\n",
       "      <th>count</th>\n",
       "      <td>3.710000e+02</td>\n",
       "      <td>371.000000</td>\n",
       "      <td>371.000000</td>\n",
       "      <td>371.000000</td>\n",
       "      <td>371.000000</td>\n",
       "      <td>371.000000</td>\n",
       "      <td>371.000000</td>\n",
       "      <td>371.000000</td>\n",
       "      <td>371.000000</td>\n",
       "      <td>371.000000</td>\n",
       "      <td>371.000000</td>\n",
       "    </tr>\n",
       "    <tr>\n",
       "      <th>mean</th>\n",
       "      <td>9.299129e+06</td>\n",
       "      <td>26.191375</td>\n",
       "      <td>198.832022</td>\n",
       "      <td>98.282750</td>\n",
       "      <td>10.752561</td>\n",
       "      <td>4.195418</td>\n",
       "      <td>2.380593</td>\n",
       "      <td>0.041022</td>\n",
       "      <td>0.138997</td>\n",
       "      <td>0.186016</td>\n",
       "      <td>0.567057</td>\n",
       "    </tr>\n",
       "    <tr>\n",
       "      <th>std</th>\n",
       "      <td>1.015230e+07</td>\n",
       "      <td>4.288707</td>\n",
       "      <td>8.175109</td>\n",
       "      <td>10.888741</td>\n",
       "      <td>6.371895</td>\n",
       "      <td>2.277174</td>\n",
       "      <td>1.940089</td>\n",
       "      <td>0.031848</td>\n",
       "      <td>0.053988</td>\n",
       "      <td>0.054193</td>\n",
       "      <td>0.063722</td>\n",
       "    </tr>\n",
       "    <tr>\n",
       "      <th>min</th>\n",
       "      <td>3.776450e+05</td>\n",
       "      <td>19.000000</td>\n",
       "      <td>177.800000</td>\n",
       "      <td>72.574720</td>\n",
       "      <td>0.800000</td>\n",
       "      <td>0.500000</td>\n",
       "      <td>0.000000</td>\n",
       "      <td>0.000000</td>\n",
       "      <td>0.032000</td>\n",
       "      <td>0.072000</td>\n",
       "      <td>0.308000</td>\n",
       "    </tr>\n",
       "    <tr>\n",
       "      <th>25%</th>\n",
       "      <td>2.179557e+06</td>\n",
       "      <td>23.000000</td>\n",
       "      <td>193.040000</td>\n",
       "      <td>90.718400</td>\n",
       "      <td>6.200000</td>\n",
       "      <td>2.600000</td>\n",
       "      <td>1.000000</td>\n",
       "      <td>0.018500</td>\n",
       "      <td>0.099000</td>\n",
       "      <td>0.147000</td>\n",
       "      <td>0.532500</td>\n",
       "    </tr>\n",
       "    <tr>\n",
       "      <th>50%</th>\n",
       "      <td>4.878049e+06</td>\n",
       "      <td>26.000000</td>\n",
       "      <td>198.120000</td>\n",
       "      <td>97.522280</td>\n",
       "      <td>9.200000</td>\n",
       "      <td>3.700000</td>\n",
       "      <td>1.800000</td>\n",
       "      <td>0.029000</td>\n",
       "      <td>0.130000</td>\n",
       "      <td>0.179000</td>\n",
       "      <td>0.566000</td>\n",
       "    </tr>\n",
       "    <tr>\n",
       "      <th>75%</th>\n",
       "      <td>1.256648e+07</td>\n",
       "      <td>29.000000</td>\n",
       "      <td>205.740000</td>\n",
       "      <td>106.140528</td>\n",
       "      <td>14.050000</td>\n",
       "      <td>5.400000</td>\n",
       "      <td>3.200000</td>\n",
       "      <td>0.054000</td>\n",
       "      <td>0.167000</td>\n",
       "      <td>0.221000</td>\n",
       "      <td>0.599000</td>\n",
       "    </tr>\n",
       "    <tr>\n",
       "      <th>max</th>\n",
       "      <td>4.578097e+07</td>\n",
       "      <td>41.000000</td>\n",
       "      <td>218.440000</td>\n",
       "      <td>128.820128</td>\n",
       "      <td>32.000000</td>\n",
       "      <td>14.300000</td>\n",
       "      <td>11.700000</td>\n",
       "      <td>0.155000</td>\n",
       "      <td>0.385000</td>\n",
       "      <td>0.352000</td>\n",
       "      <td>1.000000</td>\n",
       "    </tr>\n",
       "  </tbody>\n",
       "</table>\n",
       "</div>"
      ],
      "text/plain": [
       "             Salary         age  player_height  player_weight         pts  \\\n",
       "count  3.710000e+02  371.000000     371.000000     371.000000  371.000000   \n",
       "mean   9.299129e+06   26.191375     198.832022      98.282750   10.752561   \n",
       "std    1.015230e+07    4.288707       8.175109      10.888741    6.371895   \n",
       "min    3.776450e+05   19.000000     177.800000      72.574720    0.800000   \n",
       "25%    2.179557e+06   23.000000     193.040000      90.718400    6.200000   \n",
       "50%    4.878049e+06   26.000000     198.120000      97.522280    9.200000   \n",
       "75%    1.256648e+07   29.000000     205.740000     106.140528   14.050000   \n",
       "max    4.578097e+07   41.000000     218.440000     128.820128   32.000000   \n",
       "\n",
       "              reb         ast    oreb_pct    dreb_pct     usg_pct      ts_pct  \n",
       "count  371.000000  371.000000  371.000000  371.000000  371.000000  371.000000  \n",
       "mean     4.195418    2.380593    0.041022    0.138997    0.186016    0.567057  \n",
       "std      2.277174    1.940089    0.031848    0.053988    0.054193    0.063722  \n",
       "min      0.500000    0.000000    0.000000    0.032000    0.072000    0.308000  \n",
       "25%      2.600000    1.000000    0.018500    0.099000    0.147000    0.532500  \n",
       "50%      3.700000    1.800000    0.029000    0.130000    0.179000    0.566000  \n",
       "75%      5.400000    3.200000    0.054000    0.167000    0.221000    0.599000  \n",
       "max     14.300000   11.700000    0.155000    0.385000    0.352000    1.000000  "
      ]
     },
     "metadata": {},
     "execution_count": 316
    }
   ],
   "metadata": {}
  },
  {
   "cell_type": "code",
   "execution_count": 317,
   "source": [
    "nba.corr()"
   ],
   "outputs": [
    {
     "output_type": "execute_result",
     "data": {
      "text/html": [
       "<div>\n",
       "<style scoped>\n",
       "    .dataframe tbody tr th:only-of-type {\n",
       "        vertical-align: middle;\n",
       "    }\n",
       "\n",
       "    .dataframe tbody tr th {\n",
       "        vertical-align: top;\n",
       "    }\n",
       "\n",
       "    .dataframe thead th {\n",
       "        text-align: right;\n",
       "    }\n",
       "</style>\n",
       "<table border=\"1\" class=\"dataframe\">\n",
       "  <thead>\n",
       "    <tr style=\"text-align: right;\">\n",
       "      <th></th>\n",
       "      <th>Salary</th>\n",
       "      <th>age</th>\n",
       "      <th>player_height</th>\n",
       "      <th>player_weight</th>\n",
       "      <th>pts</th>\n",
       "      <th>reb</th>\n",
       "      <th>ast</th>\n",
       "      <th>oreb_pct</th>\n",
       "      <th>dreb_pct</th>\n",
       "      <th>usg_pct</th>\n",
       "      <th>ts_pct</th>\n",
       "    </tr>\n",
       "  </thead>\n",
       "  <tbody>\n",
       "    <tr>\n",
       "      <th>Salary</th>\n",
       "      <td>1.000000</td>\n",
       "      <td>0.283098</td>\n",
       "      <td>0.009812</td>\n",
       "      <td>0.064141</td>\n",
       "      <td>0.770348</td>\n",
       "      <td>0.473493</td>\n",
       "      <td>0.662070</td>\n",
       "      <td>-0.115231</td>\n",
       "      <td>0.106043</td>\n",
       "      <td>0.593529</td>\n",
       "      <td>0.197909</td>\n",
       "    </tr>\n",
       "    <tr>\n",
       "      <th>age</th>\n",
       "      <td>0.283098</td>\n",
       "      <td>1.000000</td>\n",
       "      <td>-0.030722</td>\n",
       "      <td>0.125483</td>\n",
       "      <td>0.114950</td>\n",
       "      <td>0.117872</td>\n",
       "      <td>0.201222</td>\n",
       "      <td>-0.039545</td>\n",
       "      <td>0.066280</td>\n",
       "      <td>0.022302</td>\n",
       "      <td>0.262016</td>\n",
       "    </tr>\n",
       "    <tr>\n",
       "      <th>player_height</th>\n",
       "      <td>0.009812</td>\n",
       "      <td>-0.030722</td>\n",
       "      <td>1.000000</td>\n",
       "      <td>0.747276</td>\n",
       "      <td>-0.072728</td>\n",
       "      <td>0.495566</td>\n",
       "      <td>-0.357682</td>\n",
       "      <td>0.607054</td>\n",
       "      <td>0.647030</td>\n",
       "      <td>-0.093631</td>\n",
       "      <td>0.257208</td>\n",
       "    </tr>\n",
       "    <tr>\n",
       "      <th>player_weight</th>\n",
       "      <td>0.064141</td>\n",
       "      <td>0.125483</td>\n",
       "      <td>0.747276</td>\n",
       "      <td>1.000000</td>\n",
       "      <td>-0.024599</td>\n",
       "      <td>0.483524</td>\n",
       "      <td>-0.267347</td>\n",
       "      <td>0.594379</td>\n",
       "      <td>0.603280</td>\n",
       "      <td>-0.042275</td>\n",
       "      <td>0.298592</td>\n",
       "    </tr>\n",
       "    <tr>\n",
       "      <th>pts</th>\n",
       "      <td>0.770348</td>\n",
       "      <td>0.114950</td>\n",
       "      <td>-0.072728</td>\n",
       "      <td>-0.024599</td>\n",
       "      <td>1.000000</td>\n",
       "      <td>0.501493</td>\n",
       "      <td>0.694138</td>\n",
       "      <td>-0.183973</td>\n",
       "      <td>0.024660</td>\n",
       "      <td>0.828230</td>\n",
       "      <td>0.218258</td>\n",
       "    </tr>\n",
       "    <tr>\n",
       "      <th>reb</th>\n",
       "      <td>0.473493</td>\n",
       "      <td>0.117872</td>\n",
       "      <td>0.495566</td>\n",
       "      <td>0.483524</td>\n",
       "      <td>0.501493</td>\n",
       "      <td>1.000000</td>\n",
       "      <td>0.284546</td>\n",
       "      <td>0.519049</td>\n",
       "      <td>0.716245</td>\n",
       "      <td>0.283179</td>\n",
       "      <td>0.283463</td>\n",
       "    </tr>\n",
       "    <tr>\n",
       "      <th>ast</th>\n",
       "      <td>0.662070</td>\n",
       "      <td>0.201222</td>\n",
       "      <td>-0.357682</td>\n",
       "      <td>-0.267347</td>\n",
       "      <td>0.694138</td>\n",
       "      <td>0.284546</td>\n",
       "      <td>1.000000</td>\n",
       "      <td>-0.316241</td>\n",
       "      <td>-0.103944</td>\n",
       "      <td>0.576443</td>\n",
       "      <td>-0.015795</td>\n",
       "    </tr>\n",
       "    <tr>\n",
       "      <th>oreb_pct</th>\n",
       "      <td>-0.115231</td>\n",
       "      <td>-0.039545</td>\n",
       "      <td>0.607054</td>\n",
       "      <td>0.594379</td>\n",
       "      <td>-0.183973</td>\n",
       "      <td>0.519049</td>\n",
       "      <td>-0.316241</td>\n",
       "      <td>1.000000</td>\n",
       "      <td>0.657999</td>\n",
       "      <td>-0.188131</td>\n",
       "      <td>0.262967</td>\n",
       "    </tr>\n",
       "    <tr>\n",
       "      <th>dreb_pct</th>\n",
       "      <td>0.106043</td>\n",
       "      <td>0.066280</td>\n",
       "      <td>0.647030</td>\n",
       "      <td>0.603280</td>\n",
       "      <td>0.024660</td>\n",
       "      <td>0.716245</td>\n",
       "      <td>-0.103944</td>\n",
       "      <td>0.657999</td>\n",
       "      <td>1.000000</td>\n",
       "      <td>0.083350</td>\n",
       "      <td>0.258417</td>\n",
       "    </tr>\n",
       "    <tr>\n",
       "      <th>usg_pct</th>\n",
       "      <td>0.593529</td>\n",
       "      <td>0.022302</td>\n",
       "      <td>-0.093631</td>\n",
       "      <td>-0.042275</td>\n",
       "      <td>0.828230</td>\n",
       "      <td>0.283179</td>\n",
       "      <td>0.576443</td>\n",
       "      <td>-0.188131</td>\n",
       "      <td>0.083350</td>\n",
       "      <td>1.000000</td>\n",
       "      <td>0.060256</td>\n",
       "    </tr>\n",
       "    <tr>\n",
       "      <th>ts_pct</th>\n",
       "      <td>0.197909</td>\n",
       "      <td>0.262016</td>\n",
       "      <td>0.257208</td>\n",
       "      <td>0.298592</td>\n",
       "      <td>0.218258</td>\n",
       "      <td>0.283463</td>\n",
       "      <td>-0.015795</td>\n",
       "      <td>0.262967</td>\n",
       "      <td>0.258417</td>\n",
       "      <td>0.060256</td>\n",
       "      <td>1.000000</td>\n",
       "    </tr>\n",
       "  </tbody>\n",
       "</table>\n",
       "</div>"
      ],
      "text/plain": [
       "                 Salary       age  player_height  player_weight       pts  \\\n",
       "Salary         1.000000  0.283098       0.009812       0.064141  0.770348   \n",
       "age            0.283098  1.000000      -0.030722       0.125483  0.114950   \n",
       "player_height  0.009812 -0.030722       1.000000       0.747276 -0.072728   \n",
       "player_weight  0.064141  0.125483       0.747276       1.000000 -0.024599   \n",
       "pts            0.770348  0.114950      -0.072728      -0.024599  1.000000   \n",
       "reb            0.473493  0.117872       0.495566       0.483524  0.501493   \n",
       "ast            0.662070  0.201222      -0.357682      -0.267347  0.694138   \n",
       "oreb_pct      -0.115231 -0.039545       0.607054       0.594379 -0.183973   \n",
       "dreb_pct       0.106043  0.066280       0.647030       0.603280  0.024660   \n",
       "usg_pct        0.593529  0.022302      -0.093631      -0.042275  0.828230   \n",
       "ts_pct         0.197909  0.262016       0.257208       0.298592  0.218258   \n",
       "\n",
       "                    reb       ast  oreb_pct  dreb_pct   usg_pct    ts_pct  \n",
       "Salary         0.473493  0.662070 -0.115231  0.106043  0.593529  0.197909  \n",
       "age            0.117872  0.201222 -0.039545  0.066280  0.022302  0.262016  \n",
       "player_height  0.495566 -0.357682  0.607054  0.647030 -0.093631  0.257208  \n",
       "player_weight  0.483524 -0.267347  0.594379  0.603280 -0.042275  0.298592  \n",
       "pts            0.501493  0.694138 -0.183973  0.024660  0.828230  0.218258  \n",
       "reb            1.000000  0.284546  0.519049  0.716245  0.283179  0.283463  \n",
       "ast            0.284546  1.000000 -0.316241 -0.103944  0.576443 -0.015795  \n",
       "oreb_pct       0.519049 -0.316241  1.000000  0.657999 -0.188131  0.262967  \n",
       "dreb_pct       0.716245 -0.103944  0.657999  1.000000  0.083350  0.258417  \n",
       "usg_pct        0.283179  0.576443 -0.188131  0.083350  1.000000  0.060256  \n",
       "ts_pct         0.283463 -0.015795  0.262967  0.258417  0.060256  1.000000  "
      ]
     },
     "metadata": {},
     "execution_count": 317
    }
   ],
   "metadata": {}
  },
  {
   "cell_type": "code",
   "execution_count": 318,
   "source": [
    "# check for multilinearity\n",
    "import seaborn as sns\n",
    "sns.heatmap(nba.corr())"
   ],
   "outputs": [
    {
     "output_type": "execute_result",
     "data": {
      "text/plain": [
       "<AxesSubplot:>"
      ]
     },
     "metadata": {},
     "execution_count": 318
    },
    {
     "output_type": "display_data",
     "data": {
      "image/png": "[encoded data removed]",
      "text/plain": [
       "<Figure size 432x288 with 2 Axes>"
      ]
     },
     "metadata": {
      "needs_background": "light"
     }
    }
   ],
   "metadata": {}
  },
  {
   "cell_type": "markdown",
   "source": [
    "We can see that there are some features that have correlation greater than 0.7, which results in multi-colinearity. Hence, we need to apply PCA to reduct the dimension of our inputs. We will do it after splitting the data and building a model without PCA."
   ],
   "metadata": {}
  },
  {
   "cell_type": "code",
   "execution_count": 319,
   "source": [
    "# separate the data into label and train set.\n",
    "data_label = np.array(nba[\"Salary\"])\n",
    "data_train = nba.drop(columns = [\"Salary\",\"Player\",\"team\"])"
   ],
   "outputs": [],
   "metadata": {}
  },
  {
   "cell_type": "markdown",
   "source": [
    "## Train, Test Spliting"
   ],
   "metadata": {}
  },
  {
   "cell_type": "code",
   "execution_count": 320,
   "source": [
    "from sklearn.model_selection import train_test_split\n",
    "train_set,test_set,y_train,y_test = train_test_split(data_train,data_label,test_size=0.25,train_size=0.75)\n",
    "print(\"The shape of our training set: \" + str(train_set.shape))\n",
    "print(\"The shape of our testing set: \" + str(test_set.shape))"
   ],
   "outputs": [
    {
     "output_type": "stream",
     "name": "stdout",
     "text": [
      "The shape of our training set: (278, 10)\n",
      "The shape of our testing set: (93, 10)\n"
     ]
    }
   ],
   "metadata": {}
  },
  {
   "cell_type": "markdown",
   "source": [
    "## Defining metrics"
   ],
   "metadata": {}
  },
  {
   "cell_type": "code",
   "execution_count": 321,
   "source": [
    "import sklearn.metrics as metrics"
   ],
   "outputs": [],
   "metadata": {}
  },
  {
   "cell_type": "code",
   "execution_count": 322,
   "source": [
    "def regression_results(y_true, y_pred):\n",
    "    '''\n",
    "    measure the accuracy of the regression model with variance score, mean absolute error, \n",
    "    mean sequared error, median absolute error, and r2 error. Print the scores and error.\n",
    "    Args:\n",
    "        y_true: array. \n",
    "        y_pred: array.\n",
    "    Return:\n",
    "        None\n",
    "    '''\n",
    "    median_absolute_error = metrics.median_absolute_error(y_true, y_pred)\n",
    "    r2 = metrics.r2_score(y_true, y_pred)\n",
    "    explained_variance = metrics.explained_variance_score(y_true, y_pred)\n",
    "    mean_absolute_error = metrics.mean_absolute_error(y_true, y_pred) \n",
    "    mse = metrics.mean_squared_error(y_true, y_pred) \n",
    "    print('explained_variance: ', round(explained_variance,4))    \n",
    "    print('r2: ', round(r2,4))\n",
    "    print('Mean Absolute Error: ', round(mean_absolute_error,4))\n",
    "    print('Mean Squared Error: ', round(mse,4))\n",
    "    print('Root Mean Squared Error: ', round(np.sqrt(mse),4))"
   ],
   "outputs": [],
   "metadata": {}
  },
  {
   "cell_type": "markdown",
   "source": [
    "## Linear Regression"
   ],
   "metadata": {}
  },
  {
   "cell_type": "markdown",
   "source": [
    "Let's try to see what it looks like before applying PCA."
   ],
   "metadata": {}
  },
  {
   "cell_type": "code",
   "execution_count": 323,
   "source": [
    "# build a linear regression model and fit it to the training set\n",
    "from sklearn.linear_model import LinearRegression\n",
    "lrg = LinearRegression()\n",
    "lrg.fit(train_set,y_train)"
   ],
   "outputs": [
    {
     "output_type": "execute_result",
     "data": {
      "text/plain": [
       "LinearRegression()"
      ]
     },
     "metadata": {},
     "execution_count": 323
    }
   ],
   "metadata": {}
  },
  {
   "cell_type": "code",
   "execution_count": 324,
   "source": [
    "# test the regression model\n",
    "y_lrg = lrg.predict(test_set)\n",
    "regression_results(y_test, y_lrg)"
   ],
   "outputs": [
    {
     "output_type": "stream",
     "name": "stdout",
     "text": [
      "explained_variance:  0.6027\n",
      "r2:  0.5959\n",
      "Mean Absolute Error:  4570119.8149\n",
      "Mean Squared Error:  31364455572025.586\n",
      "Root Mean Squared Error:  5600397.8048\n"
     ]
    }
   ],
   "metadata": {}
  },
  {
   "cell_type": "code",
   "execution_count": 325,
   "source": [
    "# fit a linear model using the Ordinary Least Squares\n",
    "import statsmodels.api as sm\n",
    "X2 = sm.add_constant(test_set)\n",
    "est = sm.OLS(y_test, X2)\n",
    "estimate = est.fit()\n",
    "print(estimate.summary())"
   ],
   "outputs": [
    {
     "output_type": "stream",
     "name": "stdout",
     "text": [
      "                            OLS Regression Results                            \n",
      "==============================================================================\n",
      "Dep. Variable:                      y   R-squared:                       0.639\n",
      "Model:                            OLS   Adj. R-squared:                  0.595\n",
      "Method:                 Least Squares   F-statistic:                     14.52\n",
      "Date:                Thu, 17 Mar 2022   Prob (F-statistic):           1.88e-14\n",
      "Time:                        09:51:41   Log-Likelihood:                -1571.8\n",
      "No. Observations:                  93   AIC:                             3166.\n",
      "Df Residuals:                      82   BIC:                             3193.\n",
      "Df Model:                          10                                         \n",
      "Covariance Type:            nonrobust                                         \n",
      "=================================================================================\n",
      "                    coef    std err          t      P>|t|      [0.025      0.975]\n",
      "---------------------------------------------------------------------------------\n",
      "const         -2.463e+07   2.69e+07     -0.916      0.363   -7.82e+07    2.89e+07\n",
      "age            1.852e+05   1.52e+05      1.221      0.226   -1.17e+05    4.87e+05\n",
      "player_height  1.115e+05   1.54e+05      0.722      0.472   -1.96e+05    4.19e+05\n",
      "player_weight  6.314e+04   1.02e+05      0.620      0.537    -1.4e+05    2.66e+05\n",
      "pts            1.075e+06   3.08e+05      3.495      0.001    4.63e+05    1.69e+06\n",
      "reb            4.306e+05   8.04e+05      0.536      0.594   -1.17e+06    2.03e+06\n",
      "ast            1.228e+06   5.75e+05      2.135      0.036    8.37e+04    2.37e+06\n",
      "oreb_pct      -4.729e+06   2.99e+07     -0.158      0.875   -6.42e+07    5.47e+07\n",
      "dreb_pct      -1.582e+06   2.16e+07     -0.073      0.942   -4.45e+07    4.14e+07\n",
      "usg_pct       -3.398e+07   2.53e+07     -1.344      0.183   -8.43e+07    1.63e+07\n",
      "ts_pct        -1.703e+07   1.23e+07     -1.383      0.170   -4.15e+07    7.47e+06\n",
      "==============================================================================\n",
      "Omnibus:                        0.914   Durbin-Watson:                   2.024\n",
      "Prob(Omnibus):                  0.633   Jarque-Bera (JB):                0.965\n",
      "Skew:                           0.226   Prob(JB):                        0.617\n",
      "Kurtosis:                       2.790   Cond. No.                     1.19e+04\n",
      "==============================================================================\n",
      "\n",
      "Notes:\n",
      "[1] Standard Errors assume that the covariance matrix of the errors is correctly specified.\n",
      "[2] The condition number is large, 1.19e+04. This might indicate that there are\n",
      "strong multicollinearity or other numerical problems.\n"
     ]
    }
   ],
   "metadata": {}
  },
  {
   "cell_type": "markdown",
   "source": [
    "## Principle Component Analysis"
   ],
   "metadata": {}
  },
  {
   "cell_type": "code",
   "execution_count": 326,
   "source": [
    "from sklearn.decomposition import PCA\n",
    "\n",
    "# Since there are some features that have multi-colinearity, \n",
    "# we can use PCA to reduce the dimensions of our input.\n",
    "df = data_train\n",
    "df_normalized=(data_train - data_train.mean()) / data_train.std()\n",
    "pca = PCA(n_components=df.shape[1])\n",
    "pca.fit(df_normalized)\n",
    "\n",
    "# Reformat and view results\n",
    "loadings = pd.DataFrame(pca.components_.T,\n",
    "columns=['PC%s' % _ for _ in range(len(df_normalized.columns))], index=df.columns)\n",
    "print(loadings)\n",
    "\n",
    "plot.plot(pca.explained_variance_ratio_)\n",
    "plot.ylabel('Explained Variance')\n",
    "plot.xlabel('Components')\n",
    "plot.show()"
   ],
   "outputs": [
    {
     "output_type": "stream",
     "name": "stdout",
     "text": [
      "                    PC0       PC1       PC2       PC3       PC4       PC5  \\\n",
      "age            0.051018  0.144226  0.789478 -0.483455 -0.191398  0.192883   \n",
      "player_height  0.446506 -0.090997 -0.107522  0.067353 -0.392510 -0.259103   \n",
      "player_weight  0.439274 -0.042136  0.046808 -0.012066 -0.506451 -0.267800   \n",
      "pts            0.012556  0.571071 -0.079999  0.177362 -0.116743 -0.121409   \n",
      "reb            0.385148  0.306408 -0.117550 -0.204675  0.308946 -0.275308   \n",
      "ast           -0.130783  0.502948  0.005572 -0.259247  0.247758 -0.396187   \n",
      "oreb_pct       0.428751 -0.123746 -0.087961 -0.054011  0.391883  0.235562   \n",
      "dreb_pct       0.450730  0.056931 -0.113999 -0.221894  0.195001  0.427449   \n",
      "usg_pct       -0.016897  0.512002 -0.219296  0.158952 -0.346995  0.581237   \n",
      "ts_pct         0.228465  0.124411  0.523354  0.737300  0.265231 -0.020171   \n",
      "\n",
      "                    PC6       PC7       PC8       PC9  \n",
      "age           -0.032471 -0.205598  0.049273 -0.001041  \n",
      "player_height  0.269528 -0.293670  0.629074 -0.020837  \n",
      "player_weight -0.339317  0.473040 -0.368477  0.006232  \n",
      "pts           -0.085225 -0.361726 -0.192383  0.657552  \n",
      "reb            0.169838 -0.322699 -0.387745 -0.497491  \n",
      "ast           -0.109737  0.475272  0.454161 -0.012757  \n",
      "oreb_pct      -0.698376 -0.169216  0.233636  0.100972  \n",
      "dreb_pct       0.500548  0.364297 -0.042342  0.354368  \n",
      "usg_pct       -0.119076  0.056670  0.118079 -0.417895  \n",
      "ts_pct         0.102751  0.149327  0.046059 -0.095307  \n"
     ]
    },
    {
     "output_type": "display_data",
     "data": {
      "image/png": "[encoded data removed]",
      "text/plain": [
       "<Figure size 432x288 with 1 Axes>"
      ]
     },
     "metadata": {
      "needs_background": "light"
     }
    }
   ],
   "metadata": {}
  },
  {
   "cell_type": "markdown",
   "source": [
    "## Linear Regression(After applying PCA)"
   ],
   "metadata": {}
  },
  {
   "cell_type": "code",
   "execution_count": 327,
   "source": [
    "# reduce the features to two and then let's see how it works with our model\n",
    "pca = PCA(n_components=2) \n",
    "pca.fit_transform(train_set)\n",
    "train_set2 = pca.transform(train_set)\n",
    "test_set2 = pca.transform(test_set)\n",
    "lrg_new = LinearRegression()\n",
    "lrg_new.fit(train_set2,y_train)\n",
    "y_lrg_new = lrg_new.predict(test_set2)\n",
    "regression_results(y_test,y_lrg_new)"
   ],
   "outputs": [
    {
     "output_type": "stream",
     "name": "stdout",
     "text": [
      "explained_variance:  0.5667\n",
      "r2:  0.5497\n",
      "Mean Absolute Error:  4533611.6851\n",
      "Mean Squared Error:  34944211817136.5\n",
      "Root Mean Squared Error:  5911362.9407\n"
     ]
    }
   ],
   "metadata": {}
  },
  {
   "cell_type": "markdown",
   "source": [
    "## AdaBoost"
   ],
   "metadata": {}
  },
  {
   "cell_type": "code",
   "execution_count": 328,
   "source": [
    "# build an AdaBoost Regression model and check its performance\n",
    "from sklearn.ensemble import AdaBoostRegressor\n",
    "ada = AdaBoostRegressor()\n",
    "ada.fit(train_set2,y_train)\n",
    "y_ada = ada.predict(test_set2)\n",
    "regression_results(y_test,y_ada)"
   ],
   "outputs": [
    {
     "output_type": "stream",
     "name": "stdout",
     "text": [
      "explained_variance:  0.5684\n",
      "r2:  0.5533\n",
      "Mean Absolute Error:  4031669.2709\n",
      "Mean Squared Error:  34666194402025.184\n",
      "Root Mean Squared Error:  5887800.4723\n"
     ]
    }
   ],
   "metadata": {}
  },
  {
   "cell_type": "markdown",
   "source": [
    "## RandomForest"
   ],
   "metadata": {}
  },
  {
   "cell_type": "code",
   "execution_count": 329,
   "source": [
    "# build a random forest model and check its performance\n",
    "from sklearn.ensemble import RandomForestRegressor\n",
    "rfr = RandomForestRegressor(max_depth=2,random_state=0)\n",
    "rfr.fit(train_set2,y_train)\n",
    "y_rfr = rfr.predict(test_set2)\n",
    "regression_results(y_test, y_rfr)"
   ],
   "outputs": [
    {
     "output_type": "stream",
     "name": "stdout",
     "text": [
      "explained_variance:  0.5679\n",
      "r2:  0.5644\n",
      "Mean Absolute Error:  4176951.1678\n",
      "Mean Squared Error:  33805909119480.902\n",
      "Root Mean Squared Error:  5814284.919\n"
     ]
    }
   ],
   "metadata": {}
  },
  {
   "cell_type": "markdown",
   "source": [
    "## Cross Validation"
   ],
   "metadata": {}
  },
  {
   "cell_type": "code",
   "execution_count": 330,
   "source": [
    "from sklearn.model_selection import cross_validate\n",
    "cv_lrg = cross_validate(lrg_new, train_set, y_train, cv=8,scoring=('r2','neg_mean_absolute_error'),\n",
    "return_train_score=True)\n",
    "cv_lrg"
   ],
   "outputs": [
    {
     "output_type": "execute_result",
     "data": {
      "text/plain": [
       "{'fit_time': array([0.00246382, 0.00128889, 0.00180793, 0.00249171, 0.00183201,\n",
       "        0.00166512, 0.00325608, 0.00166988]),\n",
       " 'score_time': array([0.00137401, 0.00107121, 0.00109196, 0.0010941 , 0.00094008,\n",
       "        0.0008688 , 0.00116205, 0.00087214]),\n",
       " 'test_r2': array([0.71551861, 0.70167597, 0.61939908, 0.39452994, 0.53852666,\n",
       "        0.78673437, 0.58300957, 0.68969868]),\n",
       " 'train_r2': array([0.69023336, 0.69178731, 0.70403464, 0.71710499, 0.71319375,\n",
       "        0.67586047, 0.70563956, 0.69474681]),\n",
       " 'test_neg_mean_absolute_error': array([-4450599.63953212, -4466677.48211234, -4742753.61577983,\n",
       "        -5152627.77103011, -5481893.71045916, -4625658.7198419 ,\n",
       "        -4448416.20281597, -4203463.41594356]),\n",
       " 'train_neg_mean_absolute_error': array([-4376309.12814235, -4373632.03784132, -4326292.61351733,\n",
       "        -4265468.02659397, -4210545.67285469, -4377477.57687152,\n",
       "        -4429258.05424172, -4392250.98608895])}"
      ]
     },
     "metadata": {},
     "execution_count": 330
    }
   ],
   "metadata": {}
  },
  {
   "cell_type": "code",
   "execution_count": 331,
   "source": [
    "print(\"We have a mean r2 score for the linear Regression method: \" , cv_lrg['test_r2'].mean())"
   ],
   "outputs": [
    {
     "output_type": "stream",
     "name": "stdout",
     "text": [
      "We have a mean r2 score for the linear Regression method:  0.6286366101074853\n"
     ]
    }
   ],
   "metadata": {}
  },
  {
   "cell_type": "code",
   "execution_count": 332,
   "source": [
    "cv_rfr = cross_validate(rfr, train_set, y_train, cv=4,scoring=('r2','neg_mean_absolute_error'),\n",
    "return_train_score=True)\n",
    "cv_rfr"
   ],
   "outputs": [
    {
     "output_type": "execute_result",
     "data": {
      "text/plain": [
       "{'fit_time': array([0.07512498, 0.07141018, 0.06817198, 0.0671792 ]),\n",
       " 'score_time': array([0.00469589, 0.00469875, 0.00441098, 0.00437403]),\n",
       " 'test_r2': array([0.63237257, 0.50708996, 0.61476339, 0.69342295]),\n",
       " 'train_r2': array([0.73385774, 0.75502867, 0.73117542, 0.72320069]),\n",
       " 'test_neg_mean_absolute_error': array([-4633995.27472133, -5016017.35474088, -4969515.26152615,\n",
       "        -3737689.62530331]),\n",
       " 'train_neg_mean_absolute_error': array([-3912211.18414177, -3792292.48798014, -3833095.90769681,\n",
       "        -4082697.40060936])}"
      ]
     },
     "metadata": {},
     "execution_count": 332
    }
   ],
   "metadata": {}
  },
  {
   "cell_type": "code",
   "execution_count": 333,
   "source": [
    "print(\"We have a mean r2 score for the Random Forest method: \" , cv_rfr['test_r2'].mean())"
   ],
   "outputs": [
    {
     "output_type": "stream",
     "name": "stdout",
     "text": [
      "We have a mean r2 score for the Random Forest method:  0.6119122163873747\n"
     ]
    }
   ],
   "metadata": {}
  },
  {
   "cell_type": "code",
   "execution_count": 334,
   "source": [
    "cv_ada = cross_validate(ada, train_set, y_train, cv=4,scoring=('r2','neg_mean_absolute_error'),\n",
    "return_train_score=True)\n",
    "cv_ada"
   ],
   "outputs": [
    {
     "output_type": "execute_result",
     "data": {
      "text/plain": [
       "{'fit_time': array([0.04080105, 0.0369041 , 0.03599405, 0.03634882]),\n",
       " 'score_time': array([0.00285006, 0.0028131 , 0.00284171, 0.0028491 ]),\n",
       " 'test_r2': array([0.66251787, 0.57216491, 0.70450072, 0.5393136 ]),\n",
       " 'train_r2': array([0.85782789, 0.88048098, 0.86287325, 0.83955539]),\n",
       " 'test_neg_mean_absolute_error': array([-4879680.92619045, -4961353.58712104, -4836265.67177726,\n",
       "        -4787624.38069077]),\n",
       " 'train_neg_mean_absolute_error': array([-3553962.68932951, -3267705.50766913, -3311956.97807655,\n",
       "        -3767308.13382904])}"
      ]
     },
     "metadata": {},
     "execution_count": 334
    }
   ],
   "metadata": {}
  },
  {
   "cell_type": "code",
   "execution_count": 335,
   "source": [
    "print(\"We have a mean r2 score for the adaboost method: \" , cv_ada['test_r2'].mean())"
   ],
   "outputs": [
    {
     "output_type": "stream",
     "name": "stdout",
     "text": [
      "We have a mean r2 score for the adaboost method:  0.619624275077064\n"
     ]
    }
   ],
   "metadata": {}
  },
  {
   "cell_type": "markdown",
   "source": [
    "According to our cross validation, we found out that linear regression method will always have a higher r2 score on average. However, the difference in r2 value is relatively small. The three models' performance are around the same; therefore, looking for other models to achive our goal to predict salaray for NBA players can increase our performance."
   ],
   "metadata": {}
  }
 ],
 "metadata": {
  "kernelspec": {
   "name": "python3",
   "display_name": "Python 3.8.8 64-bit ('base': conda)"
  },
  "language_info": {
   "codemirror_mode": {
    "name": "ipython",
    "version": 3
   },
   "file_extension": ".py",
   "mimetype": "text/x-python",
   "name": "python",
   "nbconvert_exporter": "python",
   "pygments_lexer": "ipython3",
   "version": "3.8.8"
  },
  "interpreter": {
   "hash": "081063c3fbe42f74c6151b58e98051e1c71d1a5832179801c0ec4568db35199a"
  }
 },
 "nbformat": 4,
 "nbformat_minor": 5
}